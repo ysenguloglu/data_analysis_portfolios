{
 "cells": [
  {
   "cell_type": "markdown",
   "metadata": {},
   "source": [
    "### About the Dataset\n",
    "\n",
    "+ master_id: Unique customer ID.\n",
    "+ order_channel: Order channel. (online or offline)\n",
    "+ last_order_channel: Last order channel. (online or offline)\n",
    "+ first_order_date: Customer's first order date.\n",
    "+ last_order_date: Customer's last order date.\n",
    "+ last_order_date_online: Customer's last online order date.\n",
    "+ last_order_date_offline: Customer's last offline order date.\n",
    "+ order_num_total_ever_online: Customer's online number of orders total ever.\n",
    "+ order_num_total_ever_offline: Customer's offline number of orders total ever.\n",
    "+ customer_value_total_ever_offline: Customer's offline value(monetary) total ever.\n",
    "+ customer_value_total_ever_online: Customer's online value(monetary) total ever.\n",
    "+ interested_in_categories_12: List of categories the customer has shopped in the last 12 months."
   ]
  },
  {
   "cell_type": "markdown",
   "metadata": {},
   "source": [
    "### Here our goal is answering 2 questions.\n",
    "\n",
    "+ Question 1: FLO includes a new women's shoe brand. The product prices of the brand it includes are above the general customer preferences. For this reason, it is desired to contact the customers in the profile that will be interested in the promotion of the brand and product sales. Those who shop from their loyal customers (champions, loyal_customers) and women category are the customers to be contacted specifically. Record the id numbers of these customers.\n",
    "\n",
    "\n",
    "+ Question 2: Nearly 40% discount is planned for Men's and Children's products. It is aimed to specifically target customers who are good customers in the past, but who have not shopped for a long time, who are interested in the categories related to this discount, who should not be lost, those who are asleep and new customers. Record the IDs of the customers in the appropriate profile."
   ]
  },
  {
   "cell_type": "code",
   "execution_count": 1,
   "metadata": {},
   "outputs": [],
   "source": [
    "import pandas as pd\n",
    "import numpy as np\n",
    "import matplotlib.pyplot as plt\n",
    "import seaborn as sns"
   ]
  },
  {
   "cell_type": "code",
   "execution_count": 2,
   "metadata": {},
   "outputs": [
    {
     "data": {
      "text/html": [
       "<div><div id=21395b42-4ff8-4baa-a09a-0286c837745c style=\"display:none; background-color:#9D6CFF; color:white; width:200px; height:30px; padding-left:5px; border-radius:4px; flex-direction:row; justify-content:space-around; align-items:center;\" onmouseover=\"this.style.backgroundColor='#BA9BF8'\" onmouseout=\"this.style.backgroundColor='#9D6CFF'\" onclick=\"window.commands?.execute('create-mitosheet-from-dataframe-output');\">See Full Dataframe in Mito</div> <script> if (window.commands?.hasCommand('create-mitosheet-from-dataframe-output')) document.getElementById('21395b42-4ff8-4baa-a09a-0286c837745c').style.display = 'flex' </script> <table border=\"1\" class=\"dataframe\">\n",
       "  <thead>\n",
       "    <tr style=\"text-align: right;\">\n",
       "      <th></th>\n",
       "      <th>master_id</th>\n",
       "      <th>order_channel</th>\n",
       "      <th>last_order_channel</th>\n",
       "      <th>first_order_date</th>\n",
       "      <th>last_order_date</th>\n",
       "      <th>last_order_date_online</th>\n",
       "      <th>last_order_date_offline</th>\n",
       "      <th>order_num_total_ever_online</th>\n",
       "      <th>order_num_total_ever_offline</th>\n",
       "      <th>customer_value_total_ever_offline</th>\n",
       "      <th>customer_value_total_ever_online</th>\n",
       "      <th>interested_in_categories_12</th>\n",
       "    </tr>\n",
       "  </thead>\n",
       "  <tbody>\n",
       "    <tr>\n",
       "      <th>0</th>\n",
       "      <td>cc294636-19f0-11eb-8d74-000d3a38a36f</td>\n",
       "      <td>Android App</td>\n",
       "      <td>Offline</td>\n",
       "      <td>2020-10-30</td>\n",
       "      <td>2021-02-26</td>\n",
       "      <td>2021-02-21</td>\n",
       "      <td>2021-02-26</td>\n",
       "      <td>4.0</td>\n",
       "      <td>1.0</td>\n",
       "      <td>139.99</td>\n",
       "      <td>799.38</td>\n",
       "      <td>[KADIN]</td>\n",
       "    </tr>\n",
       "    <tr>\n",
       "      <th>1</th>\n",
       "      <td>f431bd5a-ab7b-11e9-a2fc-000d3a38a36f</td>\n",
       "      <td>Android App</td>\n",
       "      <td>Mobile</td>\n",
       "      <td>2017-02-08</td>\n",
       "      <td>2021-02-16</td>\n",
       "      <td>2021-02-16</td>\n",
       "      <td>2020-01-10</td>\n",
       "      <td>19.0</td>\n",
       "      <td>2.0</td>\n",
       "      <td>159.97</td>\n",
       "      <td>1853.58</td>\n",
       "      <td>[ERKEK, COCUK, KADIN, AKTIFSPOR]</td>\n",
       "    </tr>\n",
       "    <tr>\n",
       "      <th>2</th>\n",
       "      <td>69b69676-1a40-11ea-941b-000d3a38a36f</td>\n",
       "      <td>Android App</td>\n",
       "      <td>Android App</td>\n",
       "      <td>2019-11-27</td>\n",
       "      <td>2020-11-27</td>\n",
       "      <td>2020-11-27</td>\n",
       "      <td>2019-12-01</td>\n",
       "      <td>3.0</td>\n",
       "      <td>2.0</td>\n",
       "      <td>189.97</td>\n",
       "      <td>395.35</td>\n",
       "      <td>[ERKEK, KADIN]</td>\n",
       "    </tr>\n",
       "    <tr>\n",
       "      <th>3</th>\n",
       "      <td>1854e56c-491f-11eb-806e-000d3a38a36f</td>\n",
       "      <td>Android App</td>\n",
       "      <td>Android App</td>\n",
       "      <td>2021-01-06</td>\n",
       "      <td>2021-01-17</td>\n",
       "      <td>2021-01-17</td>\n",
       "      <td>2021-01-06</td>\n",
       "      <td>1.0</td>\n",
       "      <td>1.0</td>\n",
       "      <td>39.99</td>\n",
       "      <td>81.98</td>\n",
       "      <td>[AKTIFCOCUK, COCUK]</td>\n",
       "    </tr>\n",
       "    <tr>\n",
       "      <th>4</th>\n",
       "      <td>d6ea1074-f1f5-11e9-9346-000d3a38a36f</td>\n",
       "      <td>Desktop</td>\n",
       "      <td>Desktop</td>\n",
       "      <td>2019-08-03</td>\n",
       "      <td>2021-03-07</td>\n",
       "      <td>2021-03-07</td>\n",
       "      <td>2019-08-03</td>\n",
       "      <td>1.0</td>\n",
       "      <td>1.0</td>\n",
       "      <td>49.99</td>\n",
       "      <td>159.99</td>\n",
       "      <td>[AKTIFSPOR]</td>\n",
       "    </tr>\n",
       "  </tbody>\n",
       "</table></div>"
      ],
      "text/plain": [
       "                              master_id order_channel last_order_channel  \\\n",
       "0  cc294636-19f0-11eb-8d74-000d3a38a36f   Android App            Offline   \n",
       "1  f431bd5a-ab7b-11e9-a2fc-000d3a38a36f   Android App             Mobile   \n",
       "2  69b69676-1a40-11ea-941b-000d3a38a36f   Android App        Android App   \n",
       "3  1854e56c-491f-11eb-806e-000d3a38a36f   Android App        Android App   \n",
       "4  d6ea1074-f1f5-11e9-9346-000d3a38a36f       Desktop            Desktop   \n",
       "\n",
       "  first_order_date last_order_date last_order_date_online  \\\n",
       "0       2020-10-30      2021-02-26             2021-02-21   \n",
       "1       2017-02-08      2021-02-16             2021-02-16   \n",
       "2       2019-11-27      2020-11-27             2020-11-27   \n",
       "3       2021-01-06      2021-01-17             2021-01-17   \n",
       "4       2019-08-03      2021-03-07             2021-03-07   \n",
       "\n",
       "  last_order_date_offline  order_num_total_ever_online  \\\n",
       "0              2021-02-26                          4.0   \n",
       "1              2020-01-10                         19.0   \n",
       "2              2019-12-01                          3.0   \n",
       "3              2021-01-06                          1.0   \n",
       "4              2019-08-03                          1.0   \n",
       "\n",
       "   order_num_total_ever_offline  customer_value_total_ever_offline  \\\n",
       "0                           1.0                             139.99   \n",
       "1                           2.0                             159.97   \n",
       "2                           2.0                             189.97   \n",
       "3                           1.0                              39.99   \n",
       "4                           1.0                              49.99   \n",
       "\n",
       "   customer_value_total_ever_online       interested_in_categories_12  \n",
       "0                            799.38                           [KADIN]  \n",
       "1                           1853.58  [ERKEK, COCUK, KADIN, AKTIFSPOR]  \n",
       "2                            395.35                    [ERKEK, KADIN]  \n",
       "3                             81.98               [AKTIFCOCUK, COCUK]  \n",
       "4                            159.99                       [AKTIFSPOR]  "
      ]
     },
     "execution_count": 2,
     "metadata": {},
     "output_type": "execute_result"
    }
   ],
   "source": [
    "data=pd.read_csv(\"flo_data_20k.csv\")\n",
    "df=data.copy()\n",
    "df.head()"
   ]
  },
  {
   "cell_type": "markdown",
   "metadata": {},
   "source": [
    "#### There is no null values."
   ]
  },
  {
   "cell_type": "code",
   "execution_count": 3,
   "metadata": {
    "scrolled": true
   },
   "outputs": [
    {
     "data": {
      "text/plain": [
       "master_id                            0\n",
       "order_channel                        0\n",
       "last_order_channel                   0\n",
       "first_order_date                     0\n",
       "last_order_date                      0\n",
       "last_order_date_online               0\n",
       "last_order_date_offline              0\n",
       "order_num_total_ever_online          0\n",
       "order_num_total_ever_offline         0\n",
       "customer_value_total_ever_offline    0\n",
       "customer_value_total_ever_online     0\n",
       "interested_in_categories_12          0\n",
       "dtype: int64"
      ]
     },
     "execution_count": 3,
     "metadata": {},
     "output_type": "execute_result"
    }
   ],
   "source": [
    "df.isnull().sum()"
   ]
  },
  {
   "cell_type": "markdown",
   "metadata": {},
   "source": [
    "#### There is no duplicated values in master_id variable."
   ]
  },
  {
   "cell_type": "code",
   "execution_count": 4,
   "metadata": {},
   "outputs": [
    {
     "data": {
      "text/html": [
       "<div><div id=cbb69fcd-999d-4ca3-890c-c35246a229f0 style=\"display:none; background-color:#9D6CFF; color:white; width:200px; height:30px; padding-left:5px; border-radius:4px; flex-direction:row; justify-content:space-around; align-items:center;\" onmouseover=\"this.style.backgroundColor='#BA9BF8'\" onmouseout=\"this.style.backgroundColor='#9D6CFF'\" onclick=\"window.commands?.execute('create-mitosheet-from-dataframe-output');\">See Full Dataframe in Mito</div> <script> if (window.commands?.hasCommand('create-mitosheet-from-dataframe-output')) document.getElementById('cbb69fcd-999d-4ca3-890c-c35246a229f0').style.display = 'flex' </script> <table border=\"1\" class=\"dataframe\">\n",
       "  <thead>\n",
       "    <tr style=\"text-align: right;\">\n",
       "      <th></th>\n",
       "      <th>master_id</th>\n",
       "      <th>order_channel</th>\n",
       "      <th>last_order_channel</th>\n",
       "      <th>first_order_date</th>\n",
       "      <th>last_order_date</th>\n",
       "      <th>last_order_date_online</th>\n",
       "      <th>last_order_date_offline</th>\n",
       "      <th>order_num_total_ever_online</th>\n",
       "      <th>order_num_total_ever_offline</th>\n",
       "      <th>customer_value_total_ever_offline</th>\n",
       "      <th>customer_value_total_ever_online</th>\n",
       "      <th>interested_in_categories_12</th>\n",
       "    </tr>\n",
       "  </thead>\n",
       "  <tbody>\n",
       "  </tbody>\n",
       "</table></div>"
      ],
      "text/plain": [
       "Empty DataFrame\n",
       "Columns: [master_id, order_channel, last_order_channel, first_order_date, last_order_date, last_order_date_online, last_order_date_offline, order_num_total_ever_online, order_num_total_ever_offline, customer_value_total_ever_offline, customer_value_total_ever_online, interested_in_categories_12]\n",
       "Index: []"
      ]
     },
     "execution_count": 4,
     "metadata": {},
     "output_type": "execute_result"
    }
   ],
   "source": [
    "df[df.duplicated(\"master_id\")]"
   ]
  },
  {
   "cell_type": "code",
   "execution_count": 5,
   "metadata": {},
   "outputs": [
    {
     "data": {
      "text/html": [
       "<div><div id=14c7526d-055e-48cd-81be-479d5316c887 style=\"display:none; background-color:#9D6CFF; color:white; width:200px; height:30px; padding-left:5px; border-radius:4px; flex-direction:row; justify-content:space-around; align-items:center;\" onmouseover=\"this.style.backgroundColor='#BA9BF8'\" onmouseout=\"this.style.backgroundColor='#9D6CFF'\" onclick=\"window.commands?.execute('create-mitosheet-from-dataframe-output');\">See Full Dataframe in Mito</div> <script> if (window.commands?.hasCommand('create-mitosheet-from-dataframe-output')) document.getElementById('14c7526d-055e-48cd-81be-479d5316c887').style.display = 'flex' </script> <table border=\"1\" class=\"dataframe\">\n",
       "  <thead>\n",
       "    <tr style=\"text-align: right;\">\n",
       "      <th></th>\n",
       "      <th>master_id</th>\n",
       "      <th>order_channel</th>\n",
       "      <th>last_order_channel</th>\n",
       "      <th>first_order_date</th>\n",
       "      <th>last_order_date</th>\n",
       "      <th>last_order_date_online</th>\n",
       "      <th>last_order_date_offline</th>\n",
       "      <th>order_num_total_ever_online</th>\n",
       "      <th>order_num_total_ever_offline</th>\n",
       "      <th>customer_value_total_ever_offline</th>\n",
       "      <th>customer_value_total_ever_online</th>\n",
       "      <th>interested_in_categories_12</th>\n",
       "    </tr>\n",
       "  </thead>\n",
       "  <tbody>\n",
       "  </tbody>\n",
       "</table></div>"
      ],
      "text/plain": [
       "Empty DataFrame\n",
       "Columns: [master_id, order_channel, last_order_channel, first_order_date, last_order_date, last_order_date_online, last_order_date_offline, order_num_total_ever_online, order_num_total_ever_offline, customer_value_total_ever_offline, customer_value_total_ever_online, interested_in_categories_12]\n",
       "Index: []"
      ]
     },
     "execution_count": 5,
     "metadata": {},
     "output_type": "execute_result"
    }
   ],
   "source": [
    "df[df.duplicated()]"
   ]
  },
  {
   "cell_type": "code",
   "execution_count": 6,
   "metadata": {},
   "outputs": [
    {
     "data": {
      "text/html": [
       "<div><div id=29ecff01-dfdf-4710-9aee-59331ebce233 style=\"display:none; background-color:#9D6CFF; color:white; width:200px; height:30px; padding-left:5px; border-radius:4px; flex-direction:row; justify-content:space-around; align-items:center;\" onmouseover=\"this.style.backgroundColor='#BA9BF8'\" onmouseout=\"this.style.backgroundColor='#9D6CFF'\" onclick=\"window.commands?.execute('create-mitosheet-from-dataframe-output');\">See Full Dataframe in Mito</div> <script> if (window.commands?.hasCommand('create-mitosheet-from-dataframe-output')) document.getElementById('29ecff01-dfdf-4710-9aee-59331ebce233').style.display = 'flex' </script> <table border=\"1\" class=\"dataframe\">\n",
       "  <thead>\n",
       "    <tr style=\"text-align: right;\">\n",
       "      <th></th>\n",
       "      <th>count</th>\n",
       "      <th>mean</th>\n",
       "      <th>std</th>\n",
       "      <th>min</th>\n",
       "      <th>25%</th>\n",
       "      <th>50%</th>\n",
       "      <th>75%</th>\n",
       "      <th>max</th>\n",
       "    </tr>\n",
       "  </thead>\n",
       "  <tbody>\n",
       "    <tr>\n",
       "      <th>order_num_total_ever_online</th>\n",
       "      <td>19945.0</td>\n",
       "      <td>3.110855</td>\n",
       "      <td>4.225647</td>\n",
       "      <td>1.00</td>\n",
       "      <td>1.00</td>\n",
       "      <td>2.00</td>\n",
       "      <td>4.00</td>\n",
       "      <td>200.00</td>\n",
       "    </tr>\n",
       "    <tr>\n",
       "      <th>order_num_total_ever_offline</th>\n",
       "      <td>19945.0</td>\n",
       "      <td>1.913913</td>\n",
       "      <td>2.062880</td>\n",
       "      <td>1.00</td>\n",
       "      <td>1.00</td>\n",
       "      <td>1.00</td>\n",
       "      <td>2.00</td>\n",
       "      <td>109.00</td>\n",
       "    </tr>\n",
       "    <tr>\n",
       "      <th>customer_value_total_ever_offline</th>\n",
       "      <td>19945.0</td>\n",
       "      <td>253.922597</td>\n",
       "      <td>301.532853</td>\n",
       "      <td>10.00</td>\n",
       "      <td>99.99</td>\n",
       "      <td>179.98</td>\n",
       "      <td>319.97</td>\n",
       "      <td>18119.14</td>\n",
       "    </tr>\n",
       "    <tr>\n",
       "      <th>customer_value_total_ever_online</th>\n",
       "      <td>19945.0</td>\n",
       "      <td>497.321690</td>\n",
       "      <td>832.601886</td>\n",
       "      <td>12.99</td>\n",
       "      <td>149.98</td>\n",
       "      <td>286.46</td>\n",
       "      <td>578.44</td>\n",
       "      <td>45220.13</td>\n",
       "    </tr>\n",
       "  </tbody>\n",
       "</table></div>"
      ],
      "text/plain": [
       "                                     count        mean         std    min  \\\n",
       "order_num_total_ever_online        19945.0    3.110855    4.225647   1.00   \n",
       "order_num_total_ever_offline       19945.0    1.913913    2.062880   1.00   \n",
       "customer_value_total_ever_offline  19945.0  253.922597  301.532853  10.00   \n",
       "customer_value_total_ever_online   19945.0  497.321690  832.601886  12.99   \n",
       "\n",
       "                                      25%     50%     75%       max  \n",
       "order_num_total_ever_online          1.00    2.00    4.00    200.00  \n",
       "order_num_total_ever_offline         1.00    1.00    2.00    109.00  \n",
       "customer_value_total_ever_offline   99.99  179.98  319.97  18119.14  \n",
       "customer_value_total_ever_online   149.98  286.46  578.44  45220.13  "
      ]
     },
     "execution_count": 6,
     "metadata": {},
     "output_type": "execute_result"
    }
   ],
   "source": [
    "df.describe().T"
   ]
  },
  {
   "cell_type": "markdown",
   "metadata": {},
   "source": [
    "#### Our variables who contains date are has wrong dtype. We should change their dtype as datetime."
   ]
  },
  {
   "cell_type": "code",
   "execution_count": 7,
   "metadata": {},
   "outputs": [
    {
     "name": "stdout",
     "output_type": "stream",
     "text": [
      "<class 'pandas.core.frame.DataFrame'>\n",
      "RangeIndex: 19945 entries, 0 to 19944\n",
      "Data columns (total 12 columns):\n",
      " #   Column                             Non-Null Count  Dtype  \n",
      "---  ------                             --------------  -----  \n",
      " 0   master_id                          19945 non-null  object \n",
      " 1   order_channel                      19945 non-null  object \n",
      " 2   last_order_channel                 19945 non-null  object \n",
      " 3   first_order_date                   19945 non-null  object \n",
      " 4   last_order_date                    19945 non-null  object \n",
      " 5   last_order_date_online             19945 non-null  object \n",
      " 6   last_order_date_offline            19945 non-null  object \n",
      " 7   order_num_total_ever_online        19945 non-null  float64\n",
      " 8   order_num_total_ever_offline       19945 non-null  float64\n",
      " 9   customer_value_total_ever_offline  19945 non-null  float64\n",
      " 10  customer_value_total_ever_online   19945 non-null  float64\n",
      " 11  interested_in_categories_12        19945 non-null  object \n",
      "dtypes: float64(4), object(8)\n",
      "memory usage: 1.8+ MB\n"
     ]
    }
   ],
   "source": [
    "df.info()"
   ]
  },
  {
   "cell_type": "code",
   "execution_count": 8,
   "metadata": {},
   "outputs": [],
   "source": [
    "df[\"first_order_date\"]=pd.to_datetime(df[\"first_order_date\"])\n",
    "df[\"last_order_date\"]=pd.to_datetime(df[\"last_order_date\"])\n",
    "df[\"last_order_date_online\"]=pd.to_datetime(df[\"last_order_date_online\"])\n",
    "df[\"last_order_date_offline\"]=pd.to_datetime(df[\"last_order_date_offline\"])"
   ]
  },
  {
   "cell_type": "code",
   "execution_count": 9,
   "metadata": {},
   "outputs": [
    {
     "name": "stdout",
     "output_type": "stream",
     "text": [
      "<class 'pandas.core.frame.DataFrame'>\n",
      "RangeIndex: 19945 entries, 0 to 19944\n",
      "Data columns (total 12 columns):\n",
      " #   Column                             Non-Null Count  Dtype         \n",
      "---  ------                             --------------  -----         \n",
      " 0   master_id                          19945 non-null  object        \n",
      " 1   order_channel                      19945 non-null  object        \n",
      " 2   last_order_channel                 19945 non-null  object        \n",
      " 3   first_order_date                   19945 non-null  datetime64[ns]\n",
      " 4   last_order_date                    19945 non-null  datetime64[ns]\n",
      " 5   last_order_date_online             19945 non-null  datetime64[ns]\n",
      " 6   last_order_date_offline            19945 non-null  datetime64[ns]\n",
      " 7   order_num_total_ever_online        19945 non-null  float64       \n",
      " 8   order_num_total_ever_offline       19945 non-null  float64       \n",
      " 9   customer_value_total_ever_offline  19945 non-null  float64       \n",
      " 10  customer_value_total_ever_online   19945 non-null  float64       \n",
      " 11  interested_in_categories_12        19945 non-null  object        \n",
      "dtypes: datetime64[ns](4), float64(4), object(4)\n",
      "memory usage: 1.8+ MB\n"
     ]
    }
   ],
   "source": [
    "df.info()"
   ]
  },
  {
   "cell_type": "markdown",
   "metadata": {},
   "source": [
    "#### Our dataset includes both online and offline purchases. We will think as if all of the shopping is done through a single channel, without considering the words online and offline.\n",
    "\n",
    "#### Accordingly, let's prepare our data."
   ]
  },
  {
   "cell_type": "code",
   "execution_count": 10,
   "metadata": {},
   "outputs": [
    {
     "data": {
      "text/html": [
       "<div><div id=3dc4587d-4cc2-4bd9-8fe4-8ff5eb30102b style=\"display:none; background-color:#9D6CFF; color:white; width:200px; height:30px; padding-left:5px; border-radius:4px; flex-direction:row; justify-content:space-around; align-items:center;\" onmouseover=\"this.style.backgroundColor='#BA9BF8'\" onmouseout=\"this.style.backgroundColor='#9D6CFF'\" onclick=\"window.commands?.execute('create-mitosheet-from-dataframe-output');\">See Full Dataframe in Mito</div> <script> if (window.commands?.hasCommand('create-mitosheet-from-dataframe-output')) document.getElementById('3dc4587d-4cc2-4bd9-8fe4-8ff5eb30102b').style.display = 'flex' </script> <table border=\"1\" class=\"dataframe\">\n",
       "  <thead>\n",
       "    <tr style=\"text-align: right;\">\n",
       "      <th></th>\n",
       "      <th>master_id</th>\n",
       "      <th>order_channel</th>\n",
       "      <th>last_order_channel</th>\n",
       "      <th>first_order_date</th>\n",
       "      <th>last_order_date</th>\n",
       "      <th>last_order_date_online</th>\n",
       "      <th>last_order_date_offline</th>\n",
       "      <th>order_num_total_ever_online</th>\n",
       "      <th>order_num_total_ever_offline</th>\n",
       "      <th>customer_value_total_ever_offline</th>\n",
       "      <th>customer_value_total_ever_online</th>\n",
       "      <th>interested_in_categories_12</th>\n",
       "    </tr>\n",
       "  </thead>\n",
       "  <tbody>\n",
       "    <tr>\n",
       "      <th>0</th>\n",
       "      <td>cc294636-19f0-11eb-8d74-000d3a38a36f</td>\n",
       "      <td>Android App</td>\n",
       "      <td>Offline</td>\n",
       "      <td>2020-10-30</td>\n",
       "      <td>2021-02-26</td>\n",
       "      <td>2021-02-21</td>\n",
       "      <td>2021-02-26</td>\n",
       "      <td>4.0</td>\n",
       "      <td>1.0</td>\n",
       "      <td>139.99</td>\n",
       "      <td>799.38</td>\n",
       "      <td>[KADIN]</td>\n",
       "    </tr>\n",
       "    <tr>\n",
       "      <th>1</th>\n",
       "      <td>f431bd5a-ab7b-11e9-a2fc-000d3a38a36f</td>\n",
       "      <td>Android App</td>\n",
       "      <td>Mobile</td>\n",
       "      <td>2017-02-08</td>\n",
       "      <td>2021-02-16</td>\n",
       "      <td>2021-02-16</td>\n",
       "      <td>2020-01-10</td>\n",
       "      <td>19.0</td>\n",
       "      <td>2.0</td>\n",
       "      <td>159.97</td>\n",
       "      <td>1853.58</td>\n",
       "      <td>[ERKEK, COCUK, KADIN, AKTIFSPOR]</td>\n",
       "    </tr>\n",
       "    <tr>\n",
       "      <th>2</th>\n",
       "      <td>69b69676-1a40-11ea-941b-000d3a38a36f</td>\n",
       "      <td>Android App</td>\n",
       "      <td>Android App</td>\n",
       "      <td>2019-11-27</td>\n",
       "      <td>2020-11-27</td>\n",
       "      <td>2020-11-27</td>\n",
       "      <td>2019-12-01</td>\n",
       "      <td>3.0</td>\n",
       "      <td>2.0</td>\n",
       "      <td>189.97</td>\n",
       "      <td>395.35</td>\n",
       "      <td>[ERKEK, KADIN]</td>\n",
       "    </tr>\n",
       "    <tr>\n",
       "      <th>3</th>\n",
       "      <td>1854e56c-491f-11eb-806e-000d3a38a36f</td>\n",
       "      <td>Android App</td>\n",
       "      <td>Android App</td>\n",
       "      <td>2021-01-06</td>\n",
       "      <td>2021-01-17</td>\n",
       "      <td>2021-01-17</td>\n",
       "      <td>2021-01-06</td>\n",
       "      <td>1.0</td>\n",
       "      <td>1.0</td>\n",
       "      <td>39.99</td>\n",
       "      <td>81.98</td>\n",
       "      <td>[AKTIFCOCUK, COCUK]</td>\n",
       "    </tr>\n",
       "    <tr>\n",
       "      <th>4</th>\n",
       "      <td>d6ea1074-f1f5-11e9-9346-000d3a38a36f</td>\n",
       "      <td>Desktop</td>\n",
       "      <td>Desktop</td>\n",
       "      <td>2019-08-03</td>\n",
       "      <td>2021-03-07</td>\n",
       "      <td>2021-03-07</td>\n",
       "      <td>2019-08-03</td>\n",
       "      <td>1.0</td>\n",
       "      <td>1.0</td>\n",
       "      <td>49.99</td>\n",
       "      <td>159.99</td>\n",
       "      <td>[AKTIFSPOR]</td>\n",
       "    </tr>\n",
       "  </tbody>\n",
       "</table></div>"
      ],
      "text/plain": [
       "                              master_id order_channel last_order_channel  \\\n",
       "0  cc294636-19f0-11eb-8d74-000d3a38a36f   Android App            Offline   \n",
       "1  f431bd5a-ab7b-11e9-a2fc-000d3a38a36f   Android App             Mobile   \n",
       "2  69b69676-1a40-11ea-941b-000d3a38a36f   Android App        Android App   \n",
       "3  1854e56c-491f-11eb-806e-000d3a38a36f   Android App        Android App   \n",
       "4  d6ea1074-f1f5-11e9-9346-000d3a38a36f       Desktop            Desktop   \n",
       "\n",
       "  first_order_date last_order_date last_order_date_online  \\\n",
       "0       2020-10-30      2021-02-26             2021-02-21   \n",
       "1       2017-02-08      2021-02-16             2021-02-16   \n",
       "2       2019-11-27      2020-11-27             2020-11-27   \n",
       "3       2021-01-06      2021-01-17             2021-01-17   \n",
       "4       2019-08-03      2021-03-07             2021-03-07   \n",
       "\n",
       "  last_order_date_offline  order_num_total_ever_online  \\\n",
       "0              2021-02-26                          4.0   \n",
       "1              2020-01-10                         19.0   \n",
       "2              2019-12-01                          3.0   \n",
       "3              2021-01-06                          1.0   \n",
       "4              2019-08-03                          1.0   \n",
       "\n",
       "   order_num_total_ever_offline  customer_value_total_ever_offline  \\\n",
       "0                           1.0                             139.99   \n",
       "1                           2.0                             159.97   \n",
       "2                           2.0                             189.97   \n",
       "3                           1.0                              39.99   \n",
       "4                           1.0                              49.99   \n",
       "\n",
       "   customer_value_total_ever_online       interested_in_categories_12  \n",
       "0                            799.38                           [KADIN]  \n",
       "1                           1853.58  [ERKEK, COCUK, KADIN, AKTIFSPOR]  \n",
       "2                            395.35                    [ERKEK, KADIN]  \n",
       "3                             81.98               [AKTIFCOCUK, COCUK]  \n",
       "4                            159.99                       [AKTIFSPOR]  "
      ]
     },
     "execution_count": 10,
     "metadata": {},
     "output_type": "execute_result"
    }
   ],
   "source": [
    "df.head()"
   ]
  },
  {
   "cell_type": "markdown",
   "metadata": {},
   "source": [
    "#### We don't need anymore last_order_channel, last_order_date_online, last_order_date_offline variables."
   ]
  },
  {
   "cell_type": "code",
   "execution_count": 11,
   "metadata": {},
   "outputs": [],
   "source": [
    "df=df.drop([\"last_order_channel\",\"last_order_date_online\",\"last_order_date_offline\"],axis=1)"
   ]
  },
  {
   "cell_type": "markdown",
   "metadata": {},
   "source": [
    "##### Let's create our new variables. Our new variables will be eliminate online-offline difference."
   ]
  },
  {
   "cell_type": "code",
   "execution_count": 12,
   "metadata": {},
   "outputs": [
    {
     "data": {
      "text/html": [
       "<div><div id=5d11cadc-1cc6-4aac-af29-1275015f6081 style=\"display:none; background-color:#9D6CFF; color:white; width:200px; height:30px; padding-left:5px; border-radius:4px; flex-direction:row; justify-content:space-around; align-items:center;\" onmouseover=\"this.style.backgroundColor='#BA9BF8'\" onmouseout=\"this.style.backgroundColor='#9D6CFF'\" onclick=\"window.commands?.execute('create-mitosheet-from-dataframe-output');\">See Full Dataframe in Mito</div> <script> if (window.commands?.hasCommand('create-mitosheet-from-dataframe-output')) document.getElementById('5d11cadc-1cc6-4aac-af29-1275015f6081').style.display = 'flex' </script> <table border=\"1\" class=\"dataframe\">\n",
       "  <thead>\n",
       "    <tr style=\"text-align: right;\">\n",
       "      <th></th>\n",
       "      <th>master_id</th>\n",
       "      <th>order_channel</th>\n",
       "      <th>first_order_date</th>\n",
       "      <th>last_order_date</th>\n",
       "      <th>interested_in_categories_12</th>\n",
       "      <th>num_of_orders</th>\n",
       "      <th>total_value_of_customer</th>\n",
       "    </tr>\n",
       "  </thead>\n",
       "  <tbody>\n",
       "    <tr>\n",
       "      <th>0</th>\n",
       "      <td>cc294636-19f0-11eb-8d74-000d3a38a36f</td>\n",
       "      <td>Android App</td>\n",
       "      <td>2020-10-30</td>\n",
       "      <td>2021-02-26</td>\n",
       "      <td>[KADIN]</td>\n",
       "      <td>5.0</td>\n",
       "      <td>939.37</td>\n",
       "    </tr>\n",
       "    <tr>\n",
       "      <th>1</th>\n",
       "      <td>f431bd5a-ab7b-11e9-a2fc-000d3a38a36f</td>\n",
       "      <td>Android App</td>\n",
       "      <td>2017-02-08</td>\n",
       "      <td>2021-02-16</td>\n",
       "      <td>[ERKEK, COCUK, KADIN, AKTIFSPOR]</td>\n",
       "      <td>21.0</td>\n",
       "      <td>2013.55</td>\n",
       "    </tr>\n",
       "    <tr>\n",
       "      <th>2</th>\n",
       "      <td>69b69676-1a40-11ea-941b-000d3a38a36f</td>\n",
       "      <td>Android App</td>\n",
       "      <td>2019-11-27</td>\n",
       "      <td>2020-11-27</td>\n",
       "      <td>[ERKEK, KADIN]</td>\n",
       "      <td>5.0</td>\n",
       "      <td>585.32</td>\n",
       "    </tr>\n",
       "    <tr>\n",
       "      <th>3</th>\n",
       "      <td>1854e56c-491f-11eb-806e-000d3a38a36f</td>\n",
       "      <td>Android App</td>\n",
       "      <td>2021-01-06</td>\n",
       "      <td>2021-01-17</td>\n",
       "      <td>[AKTIFCOCUK, COCUK]</td>\n",
       "      <td>2.0</td>\n",
       "      <td>121.97</td>\n",
       "    </tr>\n",
       "    <tr>\n",
       "      <th>4</th>\n",
       "      <td>d6ea1074-f1f5-11e9-9346-000d3a38a36f</td>\n",
       "      <td>Desktop</td>\n",
       "      <td>2019-08-03</td>\n",
       "      <td>2021-03-07</td>\n",
       "      <td>[AKTIFSPOR]</td>\n",
       "      <td>2.0</td>\n",
       "      <td>209.98</td>\n",
       "    </tr>\n",
       "  </tbody>\n",
       "</table></div>"
      ],
      "text/plain": [
       "                              master_id order_channel first_order_date  \\\n",
       "0  cc294636-19f0-11eb-8d74-000d3a38a36f   Android App       2020-10-30   \n",
       "1  f431bd5a-ab7b-11e9-a2fc-000d3a38a36f   Android App       2017-02-08   \n",
       "2  69b69676-1a40-11ea-941b-000d3a38a36f   Android App       2019-11-27   \n",
       "3  1854e56c-491f-11eb-806e-000d3a38a36f   Android App       2021-01-06   \n",
       "4  d6ea1074-f1f5-11e9-9346-000d3a38a36f       Desktop       2019-08-03   \n",
       "\n",
       "  last_order_date       interested_in_categories_12  num_of_orders  \\\n",
       "0      2021-02-26                           [KADIN]            5.0   \n",
       "1      2021-02-16  [ERKEK, COCUK, KADIN, AKTIFSPOR]           21.0   \n",
       "2      2020-11-27                    [ERKEK, KADIN]            5.0   \n",
       "3      2021-01-17               [AKTIFCOCUK, COCUK]            2.0   \n",
       "4      2021-03-07                       [AKTIFSPOR]            2.0   \n",
       "\n",
       "   total_value_of_customer  \n",
       "0                   939.37  \n",
       "1                  2013.55  \n",
       "2                   585.32  \n",
       "3                   121.97  \n",
       "4                   209.98  "
      ]
     },
     "execution_count": 12,
     "metadata": {},
     "output_type": "execute_result"
    }
   ],
   "source": [
    "df[\"num_of_orders\"]=df[\"order_num_total_ever_offline\"]+df[\"order_num_total_ever_online\"]\n",
    "df=df.drop([\"order_num_total_ever_offline\",\"order_num_total_ever_online\"],axis=1)\n",
    "df[\"total_value_of_customer\"]=df[\"customer_value_total_ever_offline\"]+df[\"customer_value_total_ever_online\"]\n",
    "df=df.drop([\"customer_value_total_ever_offline\",\"customer_value_total_ever_online\"],axis=1)\n",
    "df.head()"
   ]
  },
  {
   "cell_type": "markdown",
   "metadata": {},
   "source": [
    "##### Top 10 customers by num_of_orders."
   ]
  },
  {
   "cell_type": "code",
   "execution_count": 13,
   "metadata": {},
   "outputs": [
    {
     "data": {
      "image/png": "[encoded data removed]",
      "text/plain": [
       "<Figure size 432x288 with 1 Axes>"
      ]
     },
     "metadata": {
      "needs_background": "light"
     },
     "output_type": "display_data"
    }
   ],
   "source": [
    "df.groupby(\"master_id\")[\"num_of_orders\"].sum().reset_index().set_index(\"master_id\").sort_values(by=\"num_of_orders\",ascending=False).head(11).plot(kind=\"bar\")\n",
    "plt.show()"
   ]
  },
  {
   "cell_type": "markdown",
   "metadata": {},
   "source": [
    "##### Top 10 customers by total_value_of_customer."
   ]
  },
  {
   "cell_type": "code",
   "execution_count": 14,
   "metadata": {},
   "outputs": [
    {
     "data": {
      "image/png": "[encoded data removed]",
      "text/plain": [
       "<Figure size 432x288 with 1 Axes>"
      ]
     },
     "metadata": {
      "needs_background": "light"
     },
     "output_type": "display_data"
    }
   ],
   "source": [
    "df.groupby(\"master_id\")[\"total_value_of_customer\"].sum().reset_index().set_index(\"master_id\").sort_values(by=\"total_value_of_customer\",ascending=False).head(11).plot(kind=\"bar\")\n",
    "plt.show()"
   ]
  },
  {
   "cell_type": "markdown",
   "metadata": {},
   "source": [
    "##### Difference between order channels by total_value_of_customer."
   ]
  },
  {
   "cell_type": "code",
   "execution_count": 15,
   "metadata": {},
   "outputs": [
    {
     "data": {
      "image/png": "[encoded data removed]",
      "text/plain": [
       "<Figure size 432x288 with 1 Axes>"
      ]
     },
     "metadata": {
      "needs_background": "light"
     },
     "output_type": "display_data"
    }
   ],
   "source": [
    "df.groupby(\"order_channel\")[\"total_value_of_customer\"].sum().reset_index().set_index(\"order_channel\").sort_values(by=\"total_value_of_customer\",ascending=False).plot(kind=\"bar\")\n",
    "plt.show()"
   ]
  },
  {
   "cell_type": "markdown",
   "metadata": {},
   "source": [
    "##### Difference between order channels by num_of_orders."
   ]
  },
  {
   "cell_type": "code",
   "execution_count": 16,
   "metadata": {},
   "outputs": [
    {
     "data": {
      "image/png": "[encoded data removed]",
      "text/plain": [
       "<Figure size 432x288 with 1 Axes>"
      ]
     },
     "metadata": {
      "needs_background": "light"
     },
     "output_type": "display_data"
    }
   ],
   "source": [
    "df.groupby(\"order_channel\")[\"num_of_orders\"].sum().reset_index().set_index(\"order_channel\").sort_values(by=\"num_of_orders\",ascending=False).plot(kind=\"bar\")\n",
    "plt.show()"
   ]
  },
  {
   "cell_type": "markdown",
   "metadata": {},
   "source": [
    "##### Difference between interested_in_categories_12 by total_value_of_customer."
   ]
  },
  {
   "cell_type": "code",
   "execution_count": 17,
   "metadata": {},
   "outputs": [
    {
     "data": {
      "image/png": "[encoded data removed]",
      "text/plain": [
       "<Figure size 432x288 with 1 Axes>"
      ]
     },
     "metadata": {
      "needs_background": "light"
     },
     "output_type": "display_data"
    }
   ],
   "source": [
    "df.groupby(\"interested_in_categories_12\")[\"total_value_of_customer\"].sum().reset_index().set_index(\"interested_in_categories_12\").sort_values(by=\"total_value_of_customer\",ascending=False).plot(kind=\"bar\")\n",
    "plt.show()"
   ]
  },
  {
   "cell_type": "markdown",
   "metadata": {},
   "source": [
    "##### Difference between interested_in_categories_12 by num_of_orders."
   ]
  },
  {
   "cell_type": "code",
   "execution_count": 18,
   "metadata": {},
   "outputs": [
    {
     "data": {
      "image/png": "[encoded data removed]",
      "text/plain": [
       "<Figure size 432x288 with 1 Axes>"
      ]
     },
     "metadata": {
      "needs_background": "light"
     },
     "output_type": "display_data"
    }
   ],
   "source": [
    "df.groupby(\"interested_in_categories_12\")[\"num_of_orders\"].sum().reset_index().set_index(\"interested_in_categories_12\").sort_values(by=\"num_of_orders\",ascending=False).plot(kind=\"bar\")\n",
    "plt.show()"
   ]
  },
  {
   "cell_type": "markdown",
   "metadata": {},
   "source": [
    "### Now we'll create our RFM dataframe."
   ]
  },
  {
   "cell_type": "markdown",
   "metadata": {},
   "source": [
    "### RFM Dataframe:\n",
    "\n",
    "+ Recency = (df[\"last_order_date\"]-df[\"first_order_date\"]).dt.days\n",
    "\n",
    "+ Frequency = df[\"num_of_orders\"]\n",
    "\n",
    "+ Monetary = df[\"total_value_of_customer\"]"
   ]
  },
  {
   "cell_type": "code",
   "execution_count": 19,
   "metadata": {},
   "outputs": [
    {
     "data": {
      "text/html": [
       "<div><div id=c13a5bf4-246c-4bce-beec-25a531f6d043 style=\"display:none; background-color:#9D6CFF; color:white; width:200px; height:30px; padding-left:5px; border-radius:4px; flex-direction:row; justify-content:space-around; align-items:center;\" onmouseover=\"this.style.backgroundColor='#BA9BF8'\" onmouseout=\"this.style.backgroundColor='#9D6CFF'\" onclick=\"window.commands?.execute('create-mitosheet-from-dataframe-output');\">See Full Dataframe in Mito</div> <script> if (window.commands?.hasCommand('create-mitosheet-from-dataframe-output')) document.getElementById('c13a5bf4-246c-4bce-beec-25a531f6d043').style.display = 'flex' </script> <table border=\"1\" class=\"dataframe\">\n",
       "  <thead>\n",
       "    <tr style=\"text-align: right;\">\n",
       "      <th></th>\n",
       "      <th>master_id</th>\n",
       "      <th>Recency</th>\n",
       "      <th>Frequency</th>\n",
       "      <th>Monetary</th>\n",
       "    </tr>\n",
       "  </thead>\n",
       "  <tbody>\n",
       "    <tr>\n",
       "      <th>0</th>\n",
       "      <td>cc294636-19f0-11eb-8d74-000d3a38a36f</td>\n",
       "      <td>119</td>\n",
       "      <td>5.0</td>\n",
       "      <td>939.37</td>\n",
       "    </tr>\n",
       "    <tr>\n",
       "      <th>1</th>\n",
       "      <td>f431bd5a-ab7b-11e9-a2fc-000d3a38a36f</td>\n",
       "      <td>1469</td>\n",
       "      <td>21.0</td>\n",
       "      <td>2013.55</td>\n",
       "    </tr>\n",
       "    <tr>\n",
       "      <th>2</th>\n",
       "      <td>69b69676-1a40-11ea-941b-000d3a38a36f</td>\n",
       "      <td>366</td>\n",
       "      <td>5.0</td>\n",
       "      <td>585.32</td>\n",
       "    </tr>\n",
       "    <tr>\n",
       "      <th>3</th>\n",
       "      <td>1854e56c-491f-11eb-806e-000d3a38a36f</td>\n",
       "      <td>11</td>\n",
       "      <td>2.0</td>\n",
       "      <td>121.97</td>\n",
       "    </tr>\n",
       "    <tr>\n",
       "      <th>4</th>\n",
       "      <td>d6ea1074-f1f5-11e9-9346-000d3a38a36f</td>\n",
       "      <td>582</td>\n",
       "      <td>2.0</td>\n",
       "      <td>209.98</td>\n",
       "    </tr>\n",
       "  </tbody>\n",
       "</table></div>"
      ],
      "text/plain": [
       "                              master_id  Recency  Frequency  Monetary\n",
       "0  cc294636-19f0-11eb-8d74-000d3a38a36f      119        5.0    939.37\n",
       "1  f431bd5a-ab7b-11e9-a2fc-000d3a38a36f     1469       21.0   2013.55\n",
       "2  69b69676-1a40-11ea-941b-000d3a38a36f      366        5.0    585.32\n",
       "3  1854e56c-491f-11eb-806e-000d3a38a36f       11        2.0    121.97\n",
       "4  d6ea1074-f1f5-11e9-9346-000d3a38a36f      582        2.0    209.98"
      ]
     },
     "execution_count": 19,
     "metadata": {},
     "output_type": "execute_result"
    }
   ],
   "source": [
    "df[\"Recency\"]=(df[\"last_order_date\"]-df[\"first_order_date\"]).dt.days\n",
    "df[\"Frequency\"]=df[\"num_of_orders\"]\n",
    "df[\"Monetary\"]=df[\"total_value_of_customer\"]\n",
    "df=df.drop([\"order_channel\"\n",
    "         ,\"first_order_date\"\n",
    "         ,\"last_order_date\"\n",
    "         ,\"interested_in_categories_12\"   \n",
    "         ,\"num_of_orders\"\n",
    "         ,\"total_value_of_customer\"],axis=1)\n",
    "df.head()"
   ]
  },
  {
   "cell_type": "code",
   "execution_count": 20,
   "metadata": {},
   "outputs": [
    {
     "data": {
      "text/html": [
       "<div><div id=c0e81e0a-fafb-48ee-b6d8-42dd9a6c444b style=\"display:none; background-color:#9D6CFF; color:white; width:200px; height:30px; padding-left:5px; border-radius:4px; flex-direction:row; justify-content:space-around; align-items:center;\" onmouseover=\"this.style.backgroundColor='#BA9BF8'\" onmouseout=\"this.style.backgroundColor='#9D6CFF'\" onclick=\"window.commands?.execute('create-mitosheet-from-dataframe-output');\">See Full Dataframe in Mito</div> <script> if (window.commands?.hasCommand('create-mitosheet-from-dataframe-output')) document.getElementById('c0e81e0a-fafb-48ee-b6d8-42dd9a6c444b').style.display = 'flex' </script> <table border=\"1\" class=\"dataframe\">\n",
       "  <thead>\n",
       "    <tr style=\"text-align: right;\">\n",
       "      <th></th>\n",
       "      <th>count</th>\n",
       "      <th>mean</th>\n",
       "      <th>std</th>\n",
       "      <th>min</th>\n",
       "      <th>25%</th>\n",
       "      <th>50%</th>\n",
       "      <th>75%</th>\n",
       "      <th>max</th>\n",
       "    </tr>\n",
       "  </thead>\n",
       "  <tbody>\n",
       "    <tr>\n",
       "      <th>Recency</th>\n",
       "      <td>19945.0</td>\n",
       "      <td>666.844472</td>\n",
       "      <td>522.126125</td>\n",
       "      <td>0.00</td>\n",
       "      <td>353.00</td>\n",
       "      <td>536.00</td>\n",
       "      <td>766.00</td>\n",
       "      <td>3034.0</td>\n",
       "    </tr>\n",
       "    <tr>\n",
       "      <th>Frequency</th>\n",
       "      <td>19945.0</td>\n",
       "      <td>5.024768</td>\n",
       "      <td>4.742707</td>\n",
       "      <td>2.00</td>\n",
       "      <td>3.00</td>\n",
       "      <td>4.00</td>\n",
       "      <td>6.00</td>\n",
       "      <td>202.0</td>\n",
       "    </tr>\n",
       "    <tr>\n",
       "      <th>Monetary</th>\n",
       "      <td>19945.0</td>\n",
       "      <td>751.244287</td>\n",
       "      <td>895.402173</td>\n",
       "      <td>44.98</td>\n",
       "      <td>339.98</td>\n",
       "      <td>545.27</td>\n",
       "      <td>897.78</td>\n",
       "      <td>45905.1</td>\n",
       "    </tr>\n",
       "  </tbody>\n",
       "</table></div>"
      ],
      "text/plain": [
       "             count        mean         std    min     25%     50%     75%  \\\n",
       "Recency    19945.0  666.844472  522.126125   0.00  353.00  536.00  766.00   \n",
       "Frequency  19945.0    5.024768    4.742707   2.00    3.00    4.00    6.00   \n",
       "Monetary   19945.0  751.244287  895.402173  44.98  339.98  545.27  897.78   \n",
       "\n",
       "               max  \n",
       "Recency     3034.0  \n",
       "Frequency    202.0  \n",
       "Monetary   45905.1  "
      ]
     },
     "execution_count": 20,
     "metadata": {},
     "output_type": "execute_result"
    }
   ],
   "source": [
    "df.describe().T"
   ]
  },
  {
   "cell_type": "markdown",
   "metadata": {},
   "source": [
    "##### Creating our scores:\n",
    "\n",
    "+ Recency_score = df[\"Recency_score\"]=pd.qcut(df[\"Recency\"],q=5,labels=[5,4,3,2,1])\n",
    "\n",
    "+ Frequency_score = df[\"Recency_score\"]=pd.qcut(df[\"Recency\"],q=5,labels=[5,4,3,2,1])\n",
    "\n",
    "+ Monetary_score = df[\"Recency_score\"]=pd.qcut(df[\"Recency\"],q=5,labels=[5,4,3,2,1])"
   ]
  },
  {
   "cell_type": "code",
   "execution_count": 21,
   "metadata": {},
   "outputs": [
    {
     "data": {
      "text/html": [
       "<div><div id=21eb5bd9-e47f-4135-a655-87a9ebb64ed6 style=\"display:none; background-color:#9D6CFF; color:white; width:200px; height:30px; padding-left:5px; border-radius:4px; flex-direction:row; justify-content:space-around; align-items:center;\" onmouseover=\"this.style.backgroundColor='#BA9BF8'\" onmouseout=\"this.style.backgroundColor='#9D6CFF'\" onclick=\"window.commands?.execute('create-mitosheet-from-dataframe-output');\">See Full Dataframe in Mito</div> <script> if (window.commands?.hasCommand('create-mitosheet-from-dataframe-output')) document.getElementById('21eb5bd9-e47f-4135-a655-87a9ebb64ed6').style.display = 'flex' </script> <table border=\"1\" class=\"dataframe\">\n",
       "  <thead>\n",
       "    <tr style=\"text-align: right;\">\n",
       "      <th></th>\n",
       "      <th>master_id</th>\n",
       "      <th>Recency</th>\n",
       "      <th>Frequency</th>\n",
       "      <th>Monetary</th>\n",
       "      <th>Recency_score</th>\n",
       "      <th>Frequency_score</th>\n",
       "      <th>Monetary_score</th>\n",
       "    </tr>\n",
       "  </thead>\n",
       "  <tbody>\n",
       "    <tr>\n",
       "      <th>0</th>\n",
       "      <td>cc294636-19f0-11eb-8d74-000d3a38a36f</td>\n",
       "      <td>119</td>\n",
       "      <td>5.0</td>\n",
       "      <td>939.37</td>\n",
       "      <td>5</td>\n",
       "      <td>4</td>\n",
       "      <td>4</td>\n",
       "    </tr>\n",
       "    <tr>\n",
       "      <th>1</th>\n",
       "      <td>f431bd5a-ab7b-11e9-a2fc-000d3a38a36f</td>\n",
       "      <td>1469</td>\n",
       "      <td>21.0</td>\n",
       "      <td>2013.55</td>\n",
       "      <td>1</td>\n",
       "      <td>5</td>\n",
       "      <td>5</td>\n",
       "    </tr>\n",
       "    <tr>\n",
       "      <th>2</th>\n",
       "      <td>69b69676-1a40-11ea-941b-000d3a38a36f</td>\n",
       "      <td>366</td>\n",
       "      <td>5.0</td>\n",
       "      <td>585.32</td>\n",
       "      <td>4</td>\n",
       "      <td>4</td>\n",
       "      <td>3</td>\n",
       "    </tr>\n",
       "    <tr>\n",
       "      <th>3</th>\n",
       "      <td>1854e56c-491f-11eb-806e-000d3a38a36f</td>\n",
       "      <td>11</td>\n",
       "      <td>2.0</td>\n",
       "      <td>121.97</td>\n",
       "      <td>5</td>\n",
       "      <td>1</td>\n",
       "      <td>1</td>\n",
       "    </tr>\n",
       "    <tr>\n",
       "      <th>4</th>\n",
       "      <td>d6ea1074-f1f5-11e9-9346-000d3a38a36f</td>\n",
       "      <td>582</td>\n",
       "      <td>2.0</td>\n",
       "      <td>209.98</td>\n",
       "      <td>3</td>\n",
       "      <td>1</td>\n",
       "      <td>1</td>\n",
       "    </tr>\n",
       "  </tbody>\n",
       "</table></div>"
      ],
      "text/plain": [
       "                              master_id  Recency  Frequency  Monetary  \\\n",
       "0  cc294636-19f0-11eb-8d74-000d3a38a36f      119        5.0    939.37   \n",
       "1  f431bd5a-ab7b-11e9-a2fc-000d3a38a36f     1469       21.0   2013.55   \n",
       "2  69b69676-1a40-11ea-941b-000d3a38a36f      366        5.0    585.32   \n",
       "3  1854e56c-491f-11eb-806e-000d3a38a36f       11        2.0    121.97   \n",
       "4  d6ea1074-f1f5-11e9-9346-000d3a38a36f      582        2.0    209.98   \n",
       "\n",
       "  Recency_score Frequency_score Monetary_score  \n",
       "0             5               4              4  \n",
       "1             1               5              5  \n",
       "2             4               4              3  \n",
       "3             5               1              1  \n",
       "4             3               1              1  "
      ]
     },
     "execution_count": 21,
     "metadata": {},
     "output_type": "execute_result"
    }
   ],
   "source": [
    "df[\"Recency_score\"]=pd.qcut(df[\"Recency\"],q=5,labels=[5,4,3,2,1])\n",
    "df[\"Frequency_score\"]=pd.qcut(df[\"Frequency\"].rank(method=\"first\"),q=5,labels=[1,2,3,4,5])\n",
    "df[\"Monetary_score\"]=pd.qcut(df[\"Monetary\"],q=5,labels=[1,2,3,4,5])\n",
    "df.head()"
   ]
  },
  {
   "cell_type": "markdown",
   "metadata": {},
   "source": [
    "##### Creating RF_score:\n",
    "\n",
    "+ RF_score = df[\"RF_score\"]=df[\"Recency_score\"].astype(str)+df[\"Frequency_score\"].astype(str)"
   ]
  },
  {
   "cell_type": "code",
   "execution_count": 22,
   "metadata": {},
   "outputs": [
    {
     "data": {
      "text/html": [
       "<div><div id=b1c0a512-debe-481b-83d6-245fea747db8 style=\"display:none; background-color:#9D6CFF; color:white; width:200px; height:30px; padding-left:5px; border-radius:4px; flex-direction:row; justify-content:space-around; align-items:center;\" onmouseover=\"this.style.backgroundColor='#BA9BF8'\" onmouseout=\"this.style.backgroundColor='#9D6CFF'\" onclick=\"window.commands?.execute('create-mitosheet-from-dataframe-output');\">See Full Dataframe in Mito</div> <script> if (window.commands?.hasCommand('create-mitosheet-from-dataframe-output')) document.getElementById('b1c0a512-debe-481b-83d6-245fea747db8').style.display = 'flex' </script> <table border=\"1\" class=\"dataframe\">\n",
       "  <thead>\n",
       "    <tr style=\"text-align: right;\">\n",
       "      <th></th>\n",
       "      <th>master_id</th>\n",
       "      <th>Recency</th>\n",
       "      <th>Frequency</th>\n",
       "      <th>Monetary</th>\n",
       "      <th>Recency_score</th>\n",
       "      <th>Frequency_score</th>\n",
       "      <th>Monetary_score</th>\n",
       "      <th>RF_score</th>\n",
       "    </tr>\n",
       "  </thead>\n",
       "  <tbody>\n",
       "    <tr>\n",
       "      <th>0</th>\n",
       "      <td>cc294636-19f0-11eb-8d74-000d3a38a36f</td>\n",
       "      <td>119</td>\n",
       "      <td>5.0</td>\n",
       "      <td>939.37</td>\n",
       "      <td>5</td>\n",
       "      <td>4</td>\n",
       "      <td>4</td>\n",
       "      <td>54</td>\n",
       "    </tr>\n",
       "    <tr>\n",
       "      <th>1</th>\n",
       "      <td>f431bd5a-ab7b-11e9-a2fc-000d3a38a36f</td>\n",
       "      <td>1469</td>\n",
       "      <td>21.0</td>\n",
       "      <td>2013.55</td>\n",
       "      <td>1</td>\n",
       "      <td>5</td>\n",
       "      <td>5</td>\n",
       "      <td>15</td>\n",
       "    </tr>\n",
       "    <tr>\n",
       "      <th>2</th>\n",
       "      <td>69b69676-1a40-11ea-941b-000d3a38a36f</td>\n",
       "      <td>366</td>\n",
       "      <td>5.0</td>\n",
       "      <td>585.32</td>\n",
       "      <td>4</td>\n",
       "      <td>4</td>\n",
       "      <td>3</td>\n",
       "      <td>44</td>\n",
       "    </tr>\n",
       "    <tr>\n",
       "      <th>3</th>\n",
       "      <td>1854e56c-491f-11eb-806e-000d3a38a36f</td>\n",
       "      <td>11</td>\n",
       "      <td>2.0</td>\n",
       "      <td>121.97</td>\n",
       "      <td>5</td>\n",
       "      <td>1</td>\n",
       "      <td>1</td>\n",
       "      <td>51</td>\n",
       "    </tr>\n",
       "    <tr>\n",
       "      <th>4</th>\n",
       "      <td>d6ea1074-f1f5-11e9-9346-000d3a38a36f</td>\n",
       "      <td>582</td>\n",
       "      <td>2.0</td>\n",
       "      <td>209.98</td>\n",
       "      <td>3</td>\n",
       "      <td>1</td>\n",
       "      <td>1</td>\n",
       "      <td>31</td>\n",
       "    </tr>\n",
       "  </tbody>\n",
       "</table></div>"
      ],
      "text/plain": [
       "                              master_id  Recency  Frequency  Monetary  \\\n",
       "0  cc294636-19f0-11eb-8d74-000d3a38a36f      119        5.0    939.37   \n",
       "1  f431bd5a-ab7b-11e9-a2fc-000d3a38a36f     1469       21.0   2013.55   \n",
       "2  69b69676-1a40-11ea-941b-000d3a38a36f      366        5.0    585.32   \n",
       "3  1854e56c-491f-11eb-806e-000d3a38a36f       11        2.0    121.97   \n",
       "4  d6ea1074-f1f5-11e9-9346-000d3a38a36f      582        2.0    209.98   \n",
       "\n",
       "  Recency_score Frequency_score Monetary_score RF_score  \n",
       "0             5               4              4       54  \n",
       "1             1               5              5       15  \n",
       "2             4               4              3       44  \n",
       "3             5               1              1       51  \n",
       "4             3               1              1       31  "
      ]
     },
     "execution_count": 22,
     "metadata": {},
     "output_type": "execute_result"
    }
   ],
   "source": [
    "df[\"RF_score\"]=df[\"Recency_score\"].astype(str)+df[\"Frequency_score\"].astype(str)\n",
    "df.head()"
   ]
  },
  {
   "cell_type": "markdown",
   "metadata": {},
   "source": [
    "##### Creating our segments:"
   ]
  },
  {
   "cell_type": "code",
   "execution_count": 23,
   "metadata": {},
   "outputs": [
    {
     "data": {
      "text/html": [
       "<div><div id=1dcb6491-a63f-4342-ba2e-9f8b76eaf7ab style=\"display:none; background-color:#9D6CFF; color:white; width:200px; height:30px; padding-left:5px; border-radius:4px; flex-direction:row; justify-content:space-around; align-items:center;\" onmouseover=\"this.style.backgroundColor='#BA9BF8'\" onmouseout=\"this.style.backgroundColor='#9D6CFF'\" onclick=\"window.commands?.execute('create-mitosheet-from-dataframe-output');\">See Full Dataframe in Mito</div> <script> if (window.commands?.hasCommand('create-mitosheet-from-dataframe-output')) document.getElementById('1dcb6491-a63f-4342-ba2e-9f8b76eaf7ab').style.display = 'flex' </script> <table border=\"1\" class=\"dataframe\">\n",
       "  <thead>\n",
       "    <tr style=\"text-align: right;\">\n",
       "      <th></th>\n",
       "      <th>master_id</th>\n",
       "      <th>Recency</th>\n",
       "      <th>Frequency</th>\n",
       "      <th>Monetary</th>\n",
       "      <th>Recency_score</th>\n",
       "      <th>Frequency_score</th>\n",
       "      <th>Monetary_score</th>\n",
       "      <th>RF_score</th>\n",
       "      <th>Segment</th>\n",
       "    </tr>\n",
       "  </thead>\n",
       "  <tbody>\n",
       "    <tr>\n",
       "      <th>0</th>\n",
       "      <td>cc294636-19f0-11eb-8d74-000d3a38a36f</td>\n",
       "      <td>119</td>\n",
       "      <td>5.0</td>\n",
       "      <td>939.37</td>\n",
       "      <td>5</td>\n",
       "      <td>4</td>\n",
       "      <td>4</td>\n",
       "      <td>54</td>\n",
       "      <td>champions</td>\n",
       "    </tr>\n",
       "    <tr>\n",
       "      <th>1</th>\n",
       "      <td>f431bd5a-ab7b-11e9-a2fc-000d3a38a36f</td>\n",
       "      <td>1469</td>\n",
       "      <td>21.0</td>\n",
       "      <td>2013.55</td>\n",
       "      <td>1</td>\n",
       "      <td>5</td>\n",
       "      <td>5</td>\n",
       "      <td>15</td>\n",
       "      <td>cant_loose</td>\n",
       "    </tr>\n",
       "    <tr>\n",
       "      <th>2</th>\n",
       "      <td>69b69676-1a40-11ea-941b-000d3a38a36f</td>\n",
       "      <td>366</td>\n",
       "      <td>5.0</td>\n",
       "      <td>585.32</td>\n",
       "      <td>4</td>\n",
       "      <td>4</td>\n",
       "      <td>3</td>\n",
       "      <td>44</td>\n",
       "      <td>loyal_customers</td>\n",
       "    </tr>\n",
       "    <tr>\n",
       "      <th>3</th>\n",
       "      <td>1854e56c-491f-11eb-806e-000d3a38a36f</td>\n",
       "      <td>11</td>\n",
       "      <td>2.0</td>\n",
       "      <td>121.97</td>\n",
       "      <td>5</td>\n",
       "      <td>1</td>\n",
       "      <td>1</td>\n",
       "      <td>51</td>\n",
       "      <td>new_customers</td>\n",
       "    </tr>\n",
       "    <tr>\n",
       "      <th>4</th>\n",
       "      <td>d6ea1074-f1f5-11e9-9346-000d3a38a36f</td>\n",
       "      <td>582</td>\n",
       "      <td>2.0</td>\n",
       "      <td>209.98</td>\n",
       "      <td>3</td>\n",
       "      <td>1</td>\n",
       "      <td>1</td>\n",
       "      <td>31</td>\n",
       "      <td>about_to_sleep</td>\n",
       "    </tr>\n",
       "  </tbody>\n",
       "</table></div>"
      ],
      "text/plain": [
       "                              master_id  Recency  Frequency  Monetary  \\\n",
       "0  cc294636-19f0-11eb-8d74-000d3a38a36f      119        5.0    939.37   \n",
       "1  f431bd5a-ab7b-11e9-a2fc-000d3a38a36f     1469       21.0   2013.55   \n",
       "2  69b69676-1a40-11ea-941b-000d3a38a36f      366        5.0    585.32   \n",
       "3  1854e56c-491f-11eb-806e-000d3a38a36f       11        2.0    121.97   \n",
       "4  d6ea1074-f1f5-11e9-9346-000d3a38a36f      582        2.0    209.98   \n",
       "\n",
       "  Recency_score Frequency_score Monetary_score RF_score          Segment  \n",
       "0             5               4              4       54        champions  \n",
       "1             1               5              5       15       cant_loose  \n",
       "2             4               4              3       44  loyal_customers  \n",
       "3             5               1              1       51    new_customers  \n",
       "4             3               1              1       31   about_to_sleep  "
      ]
     },
     "execution_count": 23,
     "metadata": {},
     "output_type": "execute_result"
    }
   ],
   "source": [
    "segmentation_map={\n",
    "    r\"[1-2][1-2]\":\"hibernating\",\n",
    "    r\"[1-2][3-4]\":\"at_risk\",\n",
    "    r\"[1-2]5\":\"cant_loose\",\n",
    "    r\"3[1-2]\":\"about_to_sleep\",\n",
    "    r\"33\":\"need_attention\",\n",
    "    r\"[3-4][4-5]\":\"loyal_customers\",\n",
    "    r\"41\":\"promising\",\n",
    "    r\"51\":\"new_customers\",\n",
    "    r\"[4-5][2-3]\":\"potential_loyalists\",\n",
    "    r\"5[4-5]\":\"champions\"\n",
    "}\n",
    "df[\"Segment\"]=df[\"RF_score\"].replace(segmentation_map,regex=True)\n",
    "df.head()"
   ]
  },
  {
   "cell_type": "code",
   "execution_count": 24,
   "metadata": {},
   "outputs": [
    {
     "data": {
      "text/html": [
       "<div><div id=23761bc4-9489-4327-9758-5e8a8a99f50d style=\"display:none; background-color:#9D6CFF; color:white; width:200px; height:30px; padding-left:5px; border-radius:4px; flex-direction:row; justify-content:space-around; align-items:center;\" onmouseover=\"this.style.backgroundColor='#BA9BF8'\" onmouseout=\"this.style.backgroundColor='#9D6CFF'\" onclick=\"window.commands?.execute('create-mitosheet-from-dataframe-output');\">See Full Dataframe in Mito</div> <script> if (window.commands?.hasCommand('create-mitosheet-from-dataframe-output')) document.getElementById('23761bc4-9489-4327-9758-5e8a8a99f50d').style.display = 'flex' </script> <table border=\"1\" class=\"dataframe\">\n",
       "  <thead>\n",
       "    <tr>\n",
       "      <th></th>\n",
       "      <th colspan=\"3\" halign=\"left\">Recency</th>\n",
       "      <th colspan=\"3\" halign=\"left\">Frequency</th>\n",
       "      <th colspan=\"3\" halign=\"left\">Monetary</th>\n",
       "    </tr>\n",
       "    <tr>\n",
       "      <th></th>\n",
       "      <th>count</th>\n",
       "      <th>sum</th>\n",
       "      <th>mean</th>\n",
       "      <th>count</th>\n",
       "      <th>sum</th>\n",
       "      <th>mean</th>\n",
       "      <th>count</th>\n",
       "      <th>sum</th>\n",
       "      <th>mean</th>\n",
       "    </tr>\n",
       "    <tr>\n",
       "      <th>Segment</th>\n",
       "      <th></th>\n",
       "      <th></th>\n",
       "      <th></th>\n",
       "      <th></th>\n",
       "      <th></th>\n",
       "      <th></th>\n",
       "      <th></th>\n",
       "      <th></th>\n",
       "      <th></th>\n",
       "    </tr>\n",
       "  </thead>\n",
       "  <tbody>\n",
       "    <tr>\n",
       "      <th>about_to_sleep</th>\n",
       "      <td>1517</td>\n",
       "      <td>811773</td>\n",
       "      <td>535.117337</td>\n",
       "      <td>1517</td>\n",
       "      <td>3762.0</td>\n",
       "      <td>2.479895</td>\n",
       "      <td>1517</td>\n",
       "      <td>571310.81</td>\n",
       "      <td>376.605676</td>\n",
       "    </tr>\n",
       "    <tr>\n",
       "      <th>at_risk</th>\n",
       "      <td>3251</td>\n",
       "      <td>3431538</td>\n",
       "      <td>1055.533067</td>\n",
       "      <td>3251</td>\n",
       "      <td>15270.0</td>\n",
       "      <td>4.697016</td>\n",
       "      <td>3251</td>\n",
       "      <td>2158414.22</td>\n",
       "      <td>663.923168</td>\n",
       "    </tr>\n",
       "    <tr>\n",
       "      <th>cant_loose</th>\n",
       "      <td>2791</td>\n",
       "      <td>3569513</td>\n",
       "      <td>1278.936940</td>\n",
       "      <td>2791</td>\n",
       "      <td>33588.0</td>\n",
       "      <td>12.034396</td>\n",
       "      <td>2791</td>\n",
       "      <td>4706797.37</td>\n",
       "      <td>1686.419695</td>\n",
       "    </tr>\n",
       "    <tr>\n",
       "      <th>champions</th>\n",
       "      <td>616</td>\n",
       "      <td>124439</td>\n",
       "      <td>202.011364</td>\n",
       "      <td>616</td>\n",
       "      <td>3922.0</td>\n",
       "      <td>6.366883</td>\n",
       "      <td>616</td>\n",
       "      <td>671855.76</td>\n",
       "      <td>1090.674935</td>\n",
       "    </tr>\n",
       "    <tr>\n",
       "      <th>hibernating</th>\n",
       "      <td>1918</td>\n",
       "      <td>1898803</td>\n",
       "      <td>989.991137</td>\n",
       "      <td>1918</td>\n",
       "      <td>4781.0</td>\n",
       "      <td>2.492701</td>\n",
       "      <td>1918</td>\n",
       "      <td>693524.74</td>\n",
       "      <td>361.587456</td>\n",
       "    </tr>\n",
       "    <tr>\n",
       "      <th>loyal_customers</th>\n",
       "      <td>2741</td>\n",
       "      <td>1319738</td>\n",
       "      <td>481.480482</td>\n",
       "      <td>2741</td>\n",
       "      <td>18736.0</td>\n",
       "      <td>6.835462</td>\n",
       "      <td>2741</td>\n",
       "      <td>2934777.15</td>\n",
       "      <td>1070.695786</td>\n",
       "    </tr>\n",
       "    <tr>\n",
       "      <th>need_attention</th>\n",
       "      <td>865</td>\n",
       "      <td>463910</td>\n",
       "      <td>536.312139</td>\n",
       "      <td>865</td>\n",
       "      <td>3239.0</td>\n",
       "      <td>3.744509</td>\n",
       "      <td>865</td>\n",
       "      <td>482219.22</td>\n",
       "      <td>557.478867</td>\n",
       "    </tr>\n",
       "    <tr>\n",
       "      <th>new_customers</th>\n",
       "      <td>1598</td>\n",
       "      <td>237999</td>\n",
       "      <td>148.935544</td>\n",
       "      <td>1598</td>\n",
       "      <td>3196.0</td>\n",
       "      <td>2.000000</td>\n",
       "      <td>1598</td>\n",
       "      <td>536234.32</td>\n",
       "      <td>335.565907</td>\n",
       "    </tr>\n",
       "    <tr>\n",
       "      <th>potential_loyalists</th>\n",
       "      <td>3735</td>\n",
       "      <td>1086190</td>\n",
       "      <td>290.813922</td>\n",
       "      <td>3735</td>\n",
       "      <td>11899.0</td>\n",
       "      <td>3.185810</td>\n",
       "      <td>3735</td>\n",
       "      <td>1933893.78</td>\n",
       "      <td>517.776112</td>\n",
       "    </tr>\n",
       "    <tr>\n",
       "      <th>promising</th>\n",
       "      <td>913</td>\n",
       "      <td>356310</td>\n",
       "      <td>390.262870</td>\n",
       "      <td>913</td>\n",
       "      <td>1826.0</td>\n",
       "      <td>2.000000</td>\n",
       "      <td>913</td>\n",
       "      <td>294539.94</td>\n",
       "      <td>322.606725</td>\n",
       "    </tr>\n",
       "  </tbody>\n",
       "</table></div>"
      ],
      "text/plain": [
       "                    Recency                       Frequency           \\\n",
       "                      count      sum         mean     count      sum   \n",
       "Segment                                                                \n",
       "about_to_sleep         1517   811773   535.117337      1517   3762.0   \n",
       "at_risk                3251  3431538  1055.533067      3251  15270.0   \n",
       "cant_loose             2791  3569513  1278.936940      2791  33588.0   \n",
       "champions               616   124439   202.011364       616   3922.0   \n",
       "hibernating            1918  1898803   989.991137      1918   4781.0   \n",
       "loyal_customers        2741  1319738   481.480482      2741  18736.0   \n",
       "need_attention          865   463910   536.312139       865   3239.0   \n",
       "new_customers          1598   237999   148.935544      1598   3196.0   \n",
       "potential_loyalists    3735  1086190   290.813922      3735  11899.0   \n",
       "promising               913   356310   390.262870       913   1826.0   \n",
       "\n",
       "                               Monetary                           \n",
       "                          mean    count         sum         mean  \n",
       "Segment                                                           \n",
       "about_to_sleep        2.479895     1517   571310.81   376.605676  \n",
       "at_risk               4.697016     3251  2158414.22   663.923168  \n",
       "cant_loose           12.034396     2791  4706797.37  1686.419695  \n",
       "champions             6.366883      616   671855.76  1090.674935  \n",
       "hibernating           2.492701     1918   693524.74   361.587456  \n",
       "loyal_customers       6.835462     2741  2934777.15  1070.695786  \n",
       "need_attention        3.744509      865   482219.22   557.478867  \n",
       "new_customers         2.000000     1598   536234.32   335.565907  \n",
       "potential_loyalists   3.185810     3735  1933893.78   517.776112  \n",
       "promising             2.000000      913   294539.94   322.606725  "
      ]
     },
     "execution_count": 24,
     "metadata": {},
     "output_type": "execute_result"
    }
   ],
   "source": [
    "df[[\"Segment\",\"Recency\",\"Frequency\",\"Monetary\"]].groupby(\"Segment\").agg([\"count\",\"sum\",\"mean\"])"
   ]
  },
  {
   "cell_type": "markdown",
   "metadata": {},
   "source": [
    "### Question 1:\n",
    "\n",
    "+ FLO includes a new women's shoe brand. The product prices of the brand it includes are above the general customer preferences. For this reason, it is desired to contact the customers in the profile that will be interested in the promotion of the brand and product sales. Those who shop from their loyal customers (champions, loyal_customers) and women category are the customers to be contacted specifically. Record the id numbers of these customers."
   ]
  },
  {
   "cell_type": "markdown",
   "metadata": {},
   "source": [
    "##### We need categories variable. Beacuse of that we'll merge our datasets. Merged dataset:"
   ]
  },
  {
   "cell_type": "code",
   "execution_count": 25,
   "metadata": {},
   "outputs": [
    {
     "data": {
      "text/html": [
       "<div><div id=070d9d7c-0e5c-49b1-92f2-44c7645dda36 style=\"display:none; background-color:#9D6CFF; color:white; width:200px; height:30px; padding-left:5px; border-radius:4px; flex-direction:row; justify-content:space-around; align-items:center;\" onmouseover=\"this.style.backgroundColor='#BA9BF8'\" onmouseout=\"this.style.backgroundColor='#9D6CFF'\" onclick=\"window.commands?.execute('create-mitosheet-from-dataframe-output');\">See Full Dataframe in Mito</div> <script> if (window.commands?.hasCommand('create-mitosheet-from-dataframe-output')) document.getElementById('070d9d7c-0e5c-49b1-92f2-44c7645dda36').style.display = 'flex' </script> <table border=\"1\" class=\"dataframe\">\n",
       "  <thead>\n",
       "    <tr style=\"text-align: right;\">\n",
       "      <th></th>\n",
       "      <th>master_id</th>\n",
       "      <th>Recency</th>\n",
       "      <th>Frequency</th>\n",
       "      <th>Monetary</th>\n",
       "      <th>Recency_score</th>\n",
       "      <th>Frequency_score</th>\n",
       "      <th>Monetary_score</th>\n",
       "      <th>RF_score</th>\n",
       "      <th>Segment</th>\n",
       "      <th>interested_in_categories_12</th>\n",
       "    </tr>\n",
       "  </thead>\n",
       "  <tbody>\n",
       "    <tr>\n",
       "      <th>0</th>\n",
       "      <td>cc294636-19f0-11eb-8d74-000d3a38a36f</td>\n",
       "      <td>119</td>\n",
       "      <td>5.0</td>\n",
       "      <td>939.37</td>\n",
       "      <td>5</td>\n",
       "      <td>4</td>\n",
       "      <td>4</td>\n",
       "      <td>54</td>\n",
       "      <td>champions</td>\n",
       "      <td>[KADIN]</td>\n",
       "    </tr>\n",
       "    <tr>\n",
       "      <th>1</th>\n",
       "      <td>f431bd5a-ab7b-11e9-a2fc-000d3a38a36f</td>\n",
       "      <td>1469</td>\n",
       "      <td>21.0</td>\n",
       "      <td>2013.55</td>\n",
       "      <td>1</td>\n",
       "      <td>5</td>\n",
       "      <td>5</td>\n",
       "      <td>15</td>\n",
       "      <td>cant_loose</td>\n",
       "      <td>[ERKEK, COCUK, KADIN, AKTIFSPOR]</td>\n",
       "    </tr>\n",
       "    <tr>\n",
       "      <th>2</th>\n",
       "      <td>69b69676-1a40-11ea-941b-000d3a38a36f</td>\n",
       "      <td>366</td>\n",
       "      <td>5.0</td>\n",
       "      <td>585.32</td>\n",
       "      <td>4</td>\n",
       "      <td>4</td>\n",
       "      <td>3</td>\n",
       "      <td>44</td>\n",
       "      <td>loyal_customers</td>\n",
       "      <td>[ERKEK, KADIN]</td>\n",
       "    </tr>\n",
       "    <tr>\n",
       "      <th>3</th>\n",
       "      <td>1854e56c-491f-11eb-806e-000d3a38a36f</td>\n",
       "      <td>11</td>\n",
       "      <td>2.0</td>\n",
       "      <td>121.97</td>\n",
       "      <td>5</td>\n",
       "      <td>1</td>\n",
       "      <td>1</td>\n",
       "      <td>51</td>\n",
       "      <td>new_customers</td>\n",
       "      <td>[AKTIFCOCUK, COCUK]</td>\n",
       "    </tr>\n",
       "    <tr>\n",
       "      <th>4</th>\n",
       "      <td>d6ea1074-f1f5-11e9-9346-000d3a38a36f</td>\n",
       "      <td>582</td>\n",
       "      <td>2.0</td>\n",
       "      <td>209.98</td>\n",
       "      <td>3</td>\n",
       "      <td>1</td>\n",
       "      <td>1</td>\n",
       "      <td>31</td>\n",
       "      <td>about_to_sleep</td>\n",
       "      <td>[AKTIFSPOR]</td>\n",
       "    </tr>\n",
       "  </tbody>\n",
       "</table></div>"
      ],
      "text/plain": [
       "                              master_id  Recency  Frequency  Monetary  \\\n",
       "0  cc294636-19f0-11eb-8d74-000d3a38a36f      119        5.0    939.37   \n",
       "1  f431bd5a-ab7b-11e9-a2fc-000d3a38a36f     1469       21.0   2013.55   \n",
       "2  69b69676-1a40-11ea-941b-000d3a38a36f      366        5.0    585.32   \n",
       "3  1854e56c-491f-11eb-806e-000d3a38a36f       11        2.0    121.97   \n",
       "4  d6ea1074-f1f5-11e9-9346-000d3a38a36f      582        2.0    209.98   \n",
       "\n",
       "  Recency_score Frequency_score Monetary_score RF_score          Segment  \\\n",
       "0             5               4              4       54        champions   \n",
       "1             1               5              5       15       cant_loose   \n",
       "2             4               4              3       44  loyal_customers   \n",
       "3             5               1              1       51    new_customers   \n",
       "4             3               1              1       31   about_to_sleep   \n",
       "\n",
       "        interested_in_categories_12  \n",
       "0                           [KADIN]  \n",
       "1  [ERKEK, COCUK, KADIN, AKTIFSPOR]  \n",
       "2                    [ERKEK, KADIN]  \n",
       "3               [AKTIFCOCUK, COCUK]  \n",
       "4                       [AKTIFSPOR]  "
      ]
     },
     "execution_count": 25,
     "metadata": {},
     "output_type": "execute_result"
    }
   ],
   "source": [
    "df=df.merge(data[\"interested_in_categories_12\"],how=\"left\",right_index=True,left_index=True)\n",
    "df.head()"
   ]
  },
  {
   "cell_type": "markdown",
   "metadata": {},
   "source": [
    "##### Filtered target customers. Choosed right categories. KADIN by categories, champions and loyal_customers by segments. This output is answer of Question 1."
   ]
  },
  {
   "cell_type": "code",
   "execution_count": 26,
   "metadata": {},
   "outputs": [
    {
     "data": {
      "text/plain": [
       "(234,)"
      ]
     },
     "execution_count": 26,
     "metadata": {},
     "output_type": "execute_result"
    }
   ],
   "source": [
    "target_customers=df[(df[\"interested_in_categories_12\"]==\"[KADIN]\") & ((df[\"Segment\"]==\"champions\") | (df[\"Segment\"]==\"loyal_customers\"))][\"master_id\"]\n",
    "target_customers.shape"
   ]
  },
  {
   "cell_type": "markdown",
   "metadata": {},
   "source": [
    "### Question 2:\n",
    "\n",
    "+ Nearly 40% discount is planned for Men's and Children's products. It is aimed to specifically target customers who are good customers in the past, but who have not shopped for a long time, who are interested in the categories related to this discount, who should not be lost, those who are asleep and new customers. Record the IDs of the customers in the appropriate profile."
   ]
  },
  {
   "cell_type": "code",
   "execution_count": 27,
   "metadata": {},
   "outputs": [],
   "source": [
    "df[\"interested_in_categories_12\"]=df[\"interested_in_categories_12\"].str.strip(\"[|]\")"
   ]
  },
  {
   "cell_type": "markdown",
   "metadata": {},
   "source": [
    "##### Choosing right categories. ERKEK and COCUK categories."
   ]
  },
  {
   "cell_type": "code",
   "execution_count": 28,
   "metadata": {},
   "outputs": [
    {
     "data": {
      "text/html": [
       "<div><div id=cc53aab9-eb22-4b73-91bd-0fac7eb0a119 style=\"display:none; background-color:#9D6CFF; color:white; width:200px; height:30px; padding-left:5px; border-radius:4px; flex-direction:row; justify-content:space-around; align-items:center;\" onmouseover=\"this.style.backgroundColor='#BA9BF8'\" onmouseout=\"this.style.backgroundColor='#9D6CFF'\" onclick=\"window.commands?.execute('create-mitosheet-from-dataframe-output');\">See Full Dataframe in Mito</div> <script> if (window.commands?.hasCommand('create-mitosheet-from-dataframe-output')) document.getElementById('cc53aab9-eb22-4b73-91bd-0fac7eb0a119').style.display = 'flex' </script> <table border=\"1\" class=\"dataframe\">\n",
       "  <thead>\n",
       "    <tr style=\"text-align: right;\">\n",
       "      <th></th>\n",
       "      <th>master_id</th>\n",
       "      <th>Recency</th>\n",
       "      <th>Frequency</th>\n",
       "      <th>Monetary</th>\n",
       "      <th>Recency_score</th>\n",
       "      <th>Frequency_score</th>\n",
       "      <th>Monetary_score</th>\n",
       "      <th>RF_score</th>\n",
       "      <th>Segment</th>\n",
       "      <th>interested_in_categories_12</th>\n",
       "    </tr>\n",
       "  </thead>\n",
       "  <tbody>\n",
       "    <tr>\n",
       "      <th>1</th>\n",
       "      <td>f431bd5a-ab7b-11e9-a2fc-000d3a38a36f</td>\n",
       "      <td>1469</td>\n",
       "      <td>21.0</td>\n",
       "      <td>2013.55</td>\n",
       "      <td>1</td>\n",
       "      <td>5</td>\n",
       "      <td>5</td>\n",
       "      <td>15</td>\n",
       "      <td>cant_loose</td>\n",
       "      <td>ERKEK, COCUK, KADIN, AKTIFSPOR</td>\n",
       "    </tr>\n",
       "    <tr>\n",
       "      <th>8</th>\n",
       "      <td>cfbda69e-5b4f-11ea-aca7-000d3a38a36f</td>\n",
       "      <td>409</td>\n",
       "      <td>5.0</td>\n",
       "      <td>1054.69</td>\n",
       "      <td>4</td>\n",
       "      <td>4</td>\n",
       "      <td>5</td>\n",
       "      <td>44</td>\n",
       "      <td>loyal_customers</td>\n",
       "      <td>ERKEK, COCUK, KADIN</td>\n",
       "    </tr>\n",
       "    <tr>\n",
       "      <th>47</th>\n",
       "      <td>09797cba-5b4a-11ea-8975-000d3a38a36f</td>\n",
       "      <td>488</td>\n",
       "      <td>4.0</td>\n",
       "      <td>869.93</td>\n",
       "      <td>3</td>\n",
       "      <td>3</td>\n",
       "      <td>4</td>\n",
       "      <td>33</td>\n",
       "      <td>need_attention</td>\n",
       "      <td>AKTIFCOCUK, ERKEK, KADIN, AKTIFSPOR</td>\n",
       "    </tr>\n",
       "    <tr>\n",
       "      <th>49</th>\n",
       "      <td>6925c836-ab8b-11e9-a2fc-000d3a38a36f</td>\n",
       "      <td>1220</td>\n",
       "      <td>6.0</td>\n",
       "      <td>740.53</td>\n",
       "      <td>1</td>\n",
       "      <td>4</td>\n",
       "      <td>4</td>\n",
       "      <td>14</td>\n",
       "      <td>at_risk</td>\n",
       "      <td>ERKEK, COCUK</td>\n",
       "    </tr>\n",
       "    <tr>\n",
       "      <th>60</th>\n",
       "      <td>07ddfcfe-2590-11ea-b1c8-000d3a38a36f</td>\n",
       "      <td>586</td>\n",
       "      <td>8.0</td>\n",
       "      <td>600.65</td>\n",
       "      <td>3</td>\n",
       "      <td>5</td>\n",
       "      <td>3</td>\n",
       "      <td>35</td>\n",
       "      <td>loyal_customers</td>\n",
       "      <td>AKTIFCOCUK, ERKEK, KADIN, AKTIFSPOR</td>\n",
       "    </tr>\n",
       "  </tbody>\n",
       "</table></div>"
      ],
      "text/plain": [
       "                               master_id  Recency  Frequency  Monetary  \\\n",
       "1   f431bd5a-ab7b-11e9-a2fc-000d3a38a36f     1469       21.0   2013.55   \n",
       "8   cfbda69e-5b4f-11ea-aca7-000d3a38a36f      409        5.0   1054.69   \n",
       "47  09797cba-5b4a-11ea-8975-000d3a38a36f      488        4.0    869.93   \n",
       "49  6925c836-ab8b-11e9-a2fc-000d3a38a36f     1220        6.0    740.53   \n",
       "60  07ddfcfe-2590-11ea-b1c8-000d3a38a36f      586        8.0    600.65   \n",
       "\n",
       "   Recency_score Frequency_score Monetary_score RF_score          Segment  \\\n",
       "1              1               5              5       15       cant_loose   \n",
       "8              4               4              5       44  loyal_customers   \n",
       "47             3               3              4       33   need_attention   \n",
       "49             1               4              4       14          at_risk   \n",
       "60             3               5              3       35  loyal_customers   \n",
       "\n",
       "            interested_in_categories_12  \n",
       "1        ERKEK, COCUK, KADIN, AKTIFSPOR  \n",
       "8                   ERKEK, COCUK, KADIN  \n",
       "47  AKTIFCOCUK, ERKEK, KADIN, AKTIFSPOR  \n",
       "49                         ERKEK, COCUK  \n",
       "60  AKTIFCOCUK, ERKEK, KADIN, AKTIFSPOR  "
      ]
     },
     "execution_count": 28,
     "metadata": {},
     "output_type": "execute_result"
    }
   ],
   "source": [
    "df_=df[(df[\"interested_in_categories_12\"].str.contains(\"ERKEK\")) & (df[\"interested_in_categories_12\"].str.contains(\"COCUK\"))]\n",
    "df_.head()"
   ]
  },
  {
   "cell_type": "markdown",
   "metadata": {},
   "source": [
    "##### Filtered potential customers. cant_loose, about_to_sleep and new_customers segments. Also this output is our answer of Question 2."
   ]
  },
  {
   "cell_type": "code",
   "execution_count": 29,
   "metadata": {},
   "outputs": [
    {
     "data": {
      "text/plain": [
       "1     f431bd5a-ab7b-11e9-a2fc-000d3a38a36f\n",
       "68    444de882-b067-11e9-9757-000d3a38a36f\n",
       "80    b4f0a6e6-ae60-11e9-a2fc-000d3a38a36f\n",
       "83    7bb4c782-a450-11e9-a2fc-000d3a38a36f\n",
       "85    d8f47744-a595-11e9-a2fc-000d3a38a36f\n",
       "Name: master_id, dtype: object"
      ]
     },
     "execution_count": 29,
     "metadata": {},
     "output_type": "execute_result"
    }
   ],
   "source": [
    "potential_customers=df_[(df_[\"Segment\"]==\"cant_loose\") | (df_[\"Segment\"]==\"about_to_sleep\") | (df_[\"Segment\"]==\"new_customers\")][\"master_id\"]\n",
    "potential_customers.head()"
   ]
  },
  {
   "cell_type": "markdown",
   "metadata": {},
   "source": [
    "### Creating Function for Question 1:"
   ]
  },
  {
   "cell_type": "code",
   "execution_count": 30,
   "metadata": {},
   "outputs": [],
   "source": [
    "def question_1(dataframe,csv=False):\n",
    "    \n",
    "    # Dropping NAN values\n",
    "    \n",
    "    dataframe.dropna(inplace=True)\n",
    "    \n",
    "    # Changing dtypes\n",
    "    \n",
    "    dataframe[\"first_order_date\"]=pd.to_datetime(dataframe[\"first_order_date\"])\n",
    "    dataframe[\"last_order_date\"]=pd.to_datetime(dataframe[\"last_order_date\"])\n",
    "    dataframe[\"last_order_date_online\"]=pd.to_datetime(dataframe[\"last_order_date_online\"])\n",
    "    dataframe[\"last_order_date_offline\"]=pd.to_datetime(dataframe[\"last_order_date_offline\"])\n",
    "    \n",
    "    # Dropping online-offline variables\n",
    "    \n",
    "    dataframe=dataframe.drop([\"last_order_channel\",\"last_order_date_online\",\"last_order_date_offline\"],axis=1)\n",
    "    \n",
    "    # Creating new variables for eliminating online-offline difference\n",
    "    \n",
    "    dataframe[\"num_of_orders\"]=dataframe[\"order_num_total_ever_offline\"]+dataframe[\"order_num_total_ever_online\"]\n",
    "    dataframe=dataframe.drop([\"order_num_total_ever_offline\",\"order_num_total_ever_online\"],axis=1)\n",
    "    dataframe[\"total_value_of_customer\"]=dataframe[\"customer_value_total_ever_offline\"]+dataframe[\"customer_value_total_ever_online\"]\n",
    "    dataframe=dataframe.drop([\"customer_value_total_ever_offline\",\"customer_value_total_ever_online\"],axis=1)\n",
    "    \n",
    "    # Creating RFM dataframe\n",
    "    \n",
    "    dataframe[\"Recency\"]=(dataframe[\"last_order_date\"]-dataframe[\"first_order_date\"]).dt.days\n",
    "    dataframe[\"Frequency\"]=dataframe[\"num_of_orders\"]\n",
    "    dataframe[\"Monetary\"]=dataframe[\"total_value_of_customer\"]\n",
    "    dataframe=dataframe.drop([\"order_channel\"\n",
    "             ,\"first_order_date\"\n",
    "             ,\"last_order_date\"\n",
    "             ,\"num_of_orders\"\n",
    "             ,\"total_value_of_customer\"],axis=1)\n",
    "    \n",
    "    # Creating RFM scores\n",
    "    \n",
    "    dataframe[\"Recency_score\"]=pd.qcut(dataframe[\"Recency\"],q=5,labels=[5,4,3,2,1])\n",
    "    dataframe[\"Frequency_score\"]=pd.qcut(dataframe[\"Frequency\"].rank(method=\"first\"),q=5,labels=[1,2,3,4,5])\n",
    "    dataframe[\"Monetary_score\"]=pd.qcut(dataframe[\"Monetary\"],q=5,labels=[1,2,3,4,5])   \n",
    "    dataframe[\"RF_score\"]=dataframe[\"Recency_score\"].astype(str)+dataframe[\"Frequency_score\"].astype(str)\n",
    "\n",
    "    # Creating segments\n",
    "    \n",
    "    segmentation_map={\n",
    "        r\"[1-2][1-2]\":\"hibernating\",\n",
    "        r\"[1-2][3-4]\":\"at_risk\",\n",
    "        r\"[1-2]5\":\"cant_loose\",\n",
    "        r\"3[1-2]\":\"about_to_sleep\",\n",
    "        r\"33\":\"need_attention\",\n",
    "        r\"[3-4][4-5]\":\"loyal_customers\",\n",
    "        r\"41\":\"promising\",\n",
    "        r\"51\":\"new_customers\",\n",
    "        r\"[4-5][2-3]\":\"potential_loyalists\",\n",
    "        r\"5[4-5]\":\"champions\"\n",
    "    }\n",
    "    dataframe[\"Segment\"]=dataframe[\"RF_score\"].replace(segmentation_map,regex=True)\n",
    "    \n",
    "    # Question 1\n",
    "    \n",
    "    target_customers=dataframe[(dataframe[\"interested_in_categories_12\"]==\"[KADIN]\") & ((dataframe[\"Segment\"]==\"champions\") | (dataframe[\"Segment\"]==\"loyal_customers\"))][\"master_id\"]\n",
    "    \n",
    "    # csv output\n",
    "    \n",
    "    if csv == True:\n",
    "        target_customers.to_csv()\n",
    "    \n",
    "    return target_customers"
   ]
  },
  {
   "cell_type": "code",
   "execution_count": 31,
   "metadata": {},
   "outputs": [
    {
     "data": {
      "text/plain": [
       "0        cc294636-19f0-11eb-8d74-000d3a38a36f\n",
       "54       e7fa4114-e7cc-11e9-8bb8-000d3a38a36f\n",
       "141      b6305fbe-5b4f-11ea-bb88-000d3a38a36f\n",
       "244      a30b93f8-a4fd-11e9-a2fc-000d3a38a36f\n",
       "314      4c7d87f0-a52d-11e9-a2fc-000d3a38a36f\n",
       "                         ...                 \n",
       "19828    265f99c0-2221-11ea-8523-000d3a38a36f\n",
       "19873    af25bc82-5bdb-11ea-9c29-000d3a38a36f\n",
       "19878    e06651f8-f349-11e9-9346-000d3a38a36f\n",
       "19883    c6d0256a-9dcd-11e9-9897-000d3a38a36f\n",
       "19912    f63aba0e-41d8-11ea-96d9-000d3a38a36f\n",
       "Name: master_id, Length: 234, dtype: object"
      ]
     },
     "execution_count": 31,
     "metadata": {},
     "output_type": "execute_result"
    }
   ],
   "source": [
    "question_1(data,csv=False)"
   ]
  },
  {
   "cell_type": "markdown",
   "metadata": {},
   "source": [
    "### Creating Function for Question 2:"
   ]
  },
  {
   "cell_type": "code",
   "execution_count": 32,
   "metadata": {},
   "outputs": [],
   "source": [
    "def question_2(dataframe,csv=False):\n",
    "    \n",
    "    # Dropping NAN values\n",
    "    \n",
    "    dataframe.dropna(inplace=True)\n",
    "    \n",
    "    # Changing dtypes\n",
    "    \n",
    "    dataframe[\"first_order_date\"]=pd.to_datetime(dataframe[\"first_order_date\"])\n",
    "    dataframe[\"last_order_date\"]=pd.to_datetime(dataframe[\"last_order_date\"])\n",
    "    dataframe[\"last_order_date_online\"]=pd.to_datetime(dataframe[\"last_order_date_online\"])\n",
    "    dataframe[\"last_order_date_offline\"]=pd.to_datetime(dataframe[\"last_order_date_offline\"])\n",
    "    \n",
    "    # Dropping online-offline variables\n",
    "    \n",
    "    dataframe=dataframe.drop([\"last_order_channel\",\"last_order_date_online\",\"last_order_date_offline\"],axis=1)\n",
    "    \n",
    "    # Creating new variables for eliminating online-offline difference\n",
    "    \n",
    "    dataframe[\"num_of_orders\"]=dataframe[\"order_num_total_ever_offline\"]+dataframe[\"order_num_total_ever_online\"]\n",
    "    dataframe=dataframe.drop([\"order_num_total_ever_offline\",\"order_num_total_ever_online\"],axis=1)\n",
    "    dataframe[\"total_value_of_customer\"]=dataframe[\"customer_value_total_ever_offline\"]+dataframe[\"customer_value_total_ever_online\"]\n",
    "    dataframe=dataframe.drop([\"customer_value_total_ever_offline\",\"customer_value_total_ever_online\"],axis=1)\n",
    "    \n",
    "    # Creating RFM dataframe\n",
    "    \n",
    "    dataframe[\"Recency\"]=(dataframe[\"last_order_date\"]-dataframe[\"first_order_date\"]).dt.days\n",
    "    dataframe[\"Frequency\"]=dataframe[\"num_of_orders\"]\n",
    "    dataframe[\"Monetary\"]=dataframe[\"total_value_of_customer\"]\n",
    "    dataframe=dataframe.drop([\"order_channel\"\n",
    "             ,\"first_order_date\"\n",
    "             ,\"last_order_date\"\n",
    "             ,\"num_of_orders\"\n",
    "             ,\"total_value_of_customer\"],axis=1)\n",
    "    \n",
    "    # Creating RFM scores\n",
    "    \n",
    "    dataframe[\"Recency_score\"]=pd.qcut(dataframe[\"Recency\"],q=5,labels=[5,4,3,2,1])\n",
    "    dataframe[\"Frequency_score\"]=pd.qcut(dataframe[\"Frequency\"].rank(method=\"first\"),q=5,labels=[1,2,3,4,5])\n",
    "    dataframe[\"Monetary_score\"]=pd.qcut(dataframe[\"Monetary\"],q=5,labels=[1,2,3,4,5])   \n",
    "    dataframe[\"RF_score\"]=dataframe[\"Recency_score\"].astype(str)+dataframe[\"Frequency_score\"].astype(str)\n",
    "\n",
    "    # Creating segments\n",
    "    \n",
    "    segmentation_map={\n",
    "        r\"[1-2][1-2]\":\"hibernating\",\n",
    "        r\"[1-2][3-4]\":\"at_risk\",\n",
    "        r\"[1-2]5\":\"cant_loose\",\n",
    "        r\"3[1-2]\":\"about_to_sleep\",\n",
    "        r\"33\":\"need_attention\",\n",
    "        r\"[3-4][4-5]\":\"loyal_customers\",\n",
    "        r\"41\":\"promising\",\n",
    "        r\"51\":\"new_customers\",\n",
    "        r\"[4-5][2-3]\":\"potential_loyalists\",\n",
    "        r\"5[4-5]\":\"champions\"\n",
    "    }\n",
    "    dataframe[\"Segment\"]=dataframe[\"RF_score\"].replace(segmentation_map,regex=True)\n",
    "    \n",
    "    # Question 2\n",
    "    \n",
    "    dataframe[\"interested_in_categories_12\"]=dataframe[\"interested_in_categories_12\"].str.strip(\"[|]\")    \n",
    "    dataframe=dataframe[(dataframe[\"interested_in_categories_12\"].str.contains(\"ERKEK\")) & (dataframe[\"interested_in_categories_12\"].str.contains(\"COCUK\"))]\n",
    "    potential_customers=dataframe[(dataframe[\"Segment\"]==\"cant_loose\") | (dataframe[\"Segment\"]==\"about_to_sleep\") | (dataframe[\"Segment\"]==\"new_customers\")][\"master_id\"]\n",
    "    \n",
    "    # csv output\n",
    "    \n",
    "    if csv == True:\n",
    "        potential_customers.to_csv()\n",
    "    \n",
    "    return potential_customers"
   ]
  },
  {
   "cell_type": "code",
   "execution_count": 33,
   "metadata": {},
   "outputs": [
    {
     "data": {
      "text/plain": [
       "1        f431bd5a-ab7b-11e9-a2fc-000d3a38a36f\n",
       "68       444de882-b067-11e9-9757-000d3a38a36f\n",
       "80       b4f0a6e6-ae60-11e9-a2fc-000d3a38a36f\n",
       "83       7bb4c782-a450-11e9-a2fc-000d3a38a36f\n",
       "85       d8f47744-a595-11e9-a2fc-000d3a38a36f\n",
       "                         ...                 \n",
       "19776    e2b71cc4-b039-11e9-9757-000d3a38a36f\n",
       "19797    51d2be0e-a588-11e9-a2fc-000d3a38a36f\n",
       "19844    d6e2bef4-aef8-11e9-a2fc-000d3a38a36f\n",
       "19856    07bcae98-a81b-11e9-a2fc-000d3a38a36f\n",
       "19907    b5625f4e-a151-11eb-a568-000d3a38a36f\n",
       "Name: master_id, Length: 665, dtype: object"
      ]
     },
     "execution_count": 33,
     "metadata": {},
     "output_type": "execute_result"
    }
   ],
   "source": [
    "question_2(data)"
   ]
  },
  {
   "cell_type": "code",
   "execution_count": null,
   "metadata": {},
   "outputs": [],
   "source": []
  }
 ],
 "metadata": {
  "kernelspec": {
   "display_name": "Python 3",
   "language": "python",
   "name": "python3"
  },
  "language_info": {
   "codemirror_mode": {
    "name": "ipython",
    "version": 3
   },
   "file_extension": ".py",
   "mimetype": "text/x-python",
   "name": "python",
   "nbconvert_exporter": "python",
   "pygments_lexer": "ipython3",
   "version": "3.8.5"
  }
 },
 "nbformat": 4,
 "nbformat_minor": 4
}
